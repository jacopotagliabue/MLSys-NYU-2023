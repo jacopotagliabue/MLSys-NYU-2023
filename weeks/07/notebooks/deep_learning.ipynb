{
 "cells": [
  {
   "cell_type": "code",
   "execution_count": null,
   "id": "4dd304bd-cda7-4c5c-bbf6-a85de9766560",
   "metadata": {},
   "outputs": [],
   "source": [
    "import matplotlib.pyplot as plt\n",
    "import numpy as np\n",
    "import pandas as pd\n",
    "\n",
    "%config InlineBackend.figure_format = 'retina'"
   ]
  },
  {
   "cell_type": "code",
   "execution_count": null,
   "id": "8387520c-2768-4be4-bedb-0d3915254995",
   "metadata": {},
   "outputs": [],
   "source": [
    "RANDOM_SEED = 666"
   ]
  },
  {
   "cell_type": "code",
   "execution_count": null,
   "id": "92bbe2c3-e3e3-48eb-ad64-ab7800de38c7",
   "metadata": {},
   "outputs": [],
   "source": [
    "pd.set_option(\"display.max_columns\", None)"
   ]
  },
  {
   "cell_type": "code",
   "execution_count": null,
   "id": "8aff7f3e-a4bc-45ba-9d5c-5a09a6a54efc",
   "metadata": {},
   "outputs": [],
   "source": [
    "import torch\n",
    "\n",
    "torch.manual_seed(RANDOM_SEED)"
   ]
  },
  {
   "cell_type": "markdown",
   "id": "d19eacec-4f26-47c6-80a3-db78a3152ee1",
   "metadata": {},
   "source": [
    "## Tensors\n",
    "\n",
    "PyTorch supports many similar operations to numpy."
   ]
  },
  {
   "cell_type": "code",
   "execution_count": null,
   "id": "868fadbd-88a7-4347-9ae1-737ab1b74d5c",
   "metadata": {},
   "outputs": [],
   "source": [
    "X = torch.tensor([[1, 2, 3], [4, 5, 6], [7, 8, 9]])\n",
    "X"
   ]
  },
  {
   "cell_type": "code",
   "execution_count": null,
   "id": "8b0c0944-6bc9-4d20-887c-335822a67ba2",
   "metadata": {},
   "outputs": [],
   "source": [
    "X.shape"
   ]
  },
  {
   "cell_type": "code",
   "execution_count": null,
   "id": "7492815f-1898-43cf-9d87-ade361fa1487",
   "metadata": {},
   "outputs": [],
   "source": [
    "y = torch.tensor([1, 2, 3])\n",
    "y"
   ]
  },
  {
   "cell_type": "code",
   "execution_count": null,
   "id": "f2fb6368-04d8-433b-a1f8-b9fdd77c672a",
   "metadata": {},
   "outputs": [],
   "source": [
    "# Scalar operations\n",
    "y * 2 + 1"
   ]
  },
  {
   "cell_type": "code",
   "execution_count": null,
   "id": "bb41284f-7866-47e9-9b09-d7fc10451511",
   "metadata": {},
   "outputs": [],
   "source": [
    "# Elementwise multiplication\n",
    "X * X"
   ]
  },
  {
   "cell_type": "code",
   "execution_count": null,
   "id": "07a21f43-7ae2-43df-8ed5-46280edc2ade",
   "metadata": {},
   "outputs": [],
   "source": [
    "# Matrix multiplication\n",
    "X @ X"
   ]
  },
  {
   "cell_type": "code",
   "execution_count": null,
   "id": "0508785d-3cfb-4536-a984-52c506bcb434",
   "metadata": {},
   "outputs": [],
   "source": [
    "# Create a 1-D column vector by using `reshape`\n",
    "beta = torch.tensor([0.1, 0.2, 0.3]).reshape(-1, 1)\n",
    "beta.shape"
   ]
  },
  {
   "cell_type": "code",
   "execution_count": null,
   "id": "581f6c40-711c-4d1c-ad45-4f034c94b464",
   "metadata": {},
   "outputs": [],
   "source": [
    "y_pred = X @ beta"
   ]
  },
  {
   "cell_type": "code",
   "execution_count": null,
   "id": "1972a557-ae01-4c07-a9c9-394720baf89b",
   "metadata": {},
   "outputs": [],
   "source": [
    "y_pred = X.float() @ beta\n"
   ]
  },
  {
   "cell_type": "markdown",
   "id": "a981c1dd-a835-4de3-a6fa-50ab7f5bdc7a",
   "metadata": {},
   "source": [
    "## Gradients\n",
    "\n",
    "We can take gradients with respect to any free parameters. A parameter is any `torch.nn.Parameter` object."
   ]
  },
  {
   "cell_type": "code",
   "execution_count": null,
   "id": "cb9042b8-3ea2-4a65-8ca6-07ee96db781b",
   "metadata": {},
   "outputs": [],
   "source": [
    "beta = torch.nn.Parameter(torch.tensor([3.0]))"
   ]
  },
  {
   "cell_type": "code",
   "execution_count": null,
   "id": "780ec286-5c2e-4aad-87ef-647c66b2ce2a",
   "metadata": {},
   "outputs": [],
   "source": [
    "beta"
   ]
  },
  {
   "cell_type": "code",
   "execution_count": null,
   "id": "8d8214f7-a01a-4d96-a283-c857dc1cf63d",
   "metadata": {},
   "outputs": [],
   "source": [
    "loss = 2 * beta"
   ]
  },
  {
   "cell_type": "code",
   "execution_count": null,
   "id": "646c7b04-9f59-4dd5-a11a-a798f2ab6dcd",
   "metadata": {},
   "outputs": [],
   "source": [
    "# Calculate the gradient\n",
    "loss.backward()"
   ]
  },
  {
   "cell_type": "code",
   "execution_count": null,
   "id": "a15037c4-c909-4bbb-91bc-6d5c93fb934d",
   "metadata": {},
   "outputs": [],
   "source": [
    "beta.grad"
   ]
  },
  {
   "cell_type": "code",
   "execution_count": null,
   "id": "4fef2de1-1c94-4959-af3a-487921345df1",
   "metadata": {},
   "outputs": [],
   "source": [
    "# Set the gradient back to zero\n",
    "beta.grad.detach_()\n",
    "beta.grad.zero_()"
   ]
  },
  {
   "cell_type": "code",
   "execution_count": null,
   "id": "e092d949-f2af-4a81-bb8f-51b380b4dc01",
   "metadata": {},
   "outputs": [],
   "source": [
    "loss = 3 * beta ** 2"
   ]
  },
  {
   "cell_type": "code",
   "execution_count": null,
   "id": "287a14a0-a13a-420b-955f-65b02c814acd",
   "metadata": {},
   "outputs": [],
   "source": [
    "# derivative = 3 * (2 * beta) = 3 * (2 * 3) = 18"
   ]
  },
  {
   "cell_type": "code",
   "execution_count": null,
   "id": "88b5f3c1-097d-43e4-aa5e-b2160b718f51",
   "metadata": {},
   "outputs": [],
   "source": [
    "loss.backward()"
   ]
  },
  {
   "cell_type": "code",
   "execution_count": null,
   "id": "5b1295e2-b258-419b-8901-a78b840c8e36",
   "metadata": {},
   "outputs": [],
   "source": [
    "beta.grad"
   ]
  },
  {
   "cell_type": "markdown",
   "id": "4dde4c34-12e0-4f6b-8120-095d5bb30ab8",
   "metadata": {},
   "source": [
    "We rarely work directly with `torch.nn.Parameter`. Instead, we work with `torch.nn.Module` objects which contain lots of parameters."
   ]
  },
  {
   "cell_type": "code",
   "execution_count": null,
   "id": "dfcc67db-2ec5-4787-a065-967a488b28c2",
   "metadata": {},
   "outputs": [],
   "source": [
    "X = torch.rand(10, 5)"
   ]
  },
  {
   "cell_type": "code",
   "execution_count": null,
   "id": "2e6300b1-6b71-4dba-ac3b-139cb40fe2f5",
   "metadata": {},
   "outputs": [],
   "source": [
    "layer = torch.nn.Linear(5, 5)\n",
    "layer"
   ]
  },
  {
   "cell_type": "code",
   "execution_count": null,
   "id": "1f5662f0-4f7c-4af7-9569-4ddc0480754d",
   "metadata": {},
   "outputs": [],
   "source": [
    "layer.weight"
   ]
  },
  {
   "cell_type": "code",
   "execution_count": null,
   "id": "d9700733-fd87-43d2-bf4a-ea99c27646eb",
   "metadata": {},
   "outputs": [],
   "source": [
    "layer.bias"
   ]
  },
  {
   "cell_type": "code",
   "execution_count": null,
   "id": "c1657a9c-a12a-4152-84dd-932f41a67552",
   "metadata": {},
   "outputs": [],
   "source": [
    "output = layer(X)\n",
    "output"
   ]
  },
  {
   "cell_type": "markdown",
   "id": "7d322431-8b87-4f41-9c38-c839f7625ebe",
   "metadata": {},
   "source": [
    "Let's construct a feed forward neural network with activation functions."
   ]
  },
  {
   "cell_type": "code",
   "execution_count": null,
   "id": "1756cf61-ebce-4777-a786-96370da88a97",
   "metadata": {},
   "outputs": [],
   "source": [
    "# Create some fake data\n",
    "num_samples = 10\n",
    "num_features = 30\n",
    "X = torch.rand(num_samples, num_features)\n",
    "y = torch.rand(num_samples)"
   ]
  },
  {
   "cell_type": "code",
   "execution_count": null,
   "id": "aac92b48-4b22-4b50-b6f6-fad7cbe9b1f7",
   "metadata": {},
   "outputs": [],
   "source": [
    "num_layers = 2\n",
    "hidden_size = 10\n",
    "net = [torch.nn.Linear(num_features, hidden_size), torch.nn.ReLU()]\n",
    "for _ in range(num_layers - 1):\n",
    "    net += [torch.nn.Linear(hidden_size, hidden_size), torch.nn.ReLU()]\n",
    "\n",
    "# Put a linear layer at the end to convert to a single output.\n",
    "net += [torch.nn.Linear(hidden_size, 1)]"
   ]
  },
  {
   "cell_type": "code",
   "execution_count": null,
   "id": "33c20b64-f21b-4473-b150-11d8cec40ee1",
   "metadata": {},
   "outputs": [],
   "source": [
    "def predict(net, X):\n",
    "    out = X\n",
    "    for layer in net:\n",
    "        out = layer(out)\n",
    "    return out"
   ]
  },
  {
   "cell_type": "code",
   "execution_count": null,
   "id": "a47faab2-08a2-423e-80a4-3f91333822c4",
   "metadata": {},
   "outputs": [],
   "source": [
    "predict(net, X)"
   ]
  },
  {
   "cell_type": "markdown",
   "id": "f0a64cc0-3098-4700-982a-d2ef3366f1d8",
   "metadata": {},
   "source": [
    "It's often desirable to package all of our free parameters together into a single class, similar to scikit-learn. That's what `torch.nn.Module` is for."
   ]
  },
  {
   "cell_type": "code",
   "execution_count": null,
   "id": "e69be1b5-a8d2-4ff0-ac19-8340ba6c3dca",
   "metadata": {},
   "outputs": [],
   "source": [
    "class MyNet(torch.nn.Module):\n",
    "\n",
    "    def __init__(self, num_layers: int, hidden_size: int, num_features: int):\n",
    "        super().__init__()\n",
    "        self.num_layers = num_layers\n",
    "        self.hidden_size = hidden_size\n",
    "        self.num_features = num_features\n",
    "        net = [torch.nn.Linear(num_features, hidden_size), torch.nn.ReLU()]\n",
    "        for _ in range(num_layers - 1):\n",
    "            net += [torch.nn.Linear(hidden_size, hidden_size), torch.nn.ReLU()]\n",
    "        \n",
    "        # Put a linear layer at the end to convert to a single output.\n",
    "        net += [torch.nn.Linear(hidden_size, 1)]\n",
    "        self.net = torch.nn.Sequential(*net)\n",
    "\n",
    "    def forward(self, X: torch.Tensor) -> torch.Tensor:\n",
    "        return self.net(X)"
   ]
  },
  {
   "cell_type": "code",
   "execution_count": null,
   "id": "5249bf89-7dc3-469f-9442-ec2a68ca671d",
   "metadata": {},
   "outputs": [],
   "source": [
    "net = MyNet(num_layers, hidden_size, num_features)"
   ]
  },
  {
   "cell_type": "code",
   "execution_count": null,
   "id": "c2c1a7d3-b16a-435d-afad-e890dc0224cf",
   "metadata": {},
   "outputs": [],
   "source": [
    "net"
   ]
  },
  {
   "cell_type": "code",
   "execution_count": null,
   "id": "166e2f35-8055-4a7e-be75-bd7b1f58a8fc",
   "metadata": {},
   "outputs": [],
   "source": [
    "net(X)"
   ]
  },
  {
   "cell_type": "markdown",
   "id": "d440d4c6-ff69-492c-8a20-5d7bed4b9c61",
   "metadata": {},
   "source": [
    "## Optimization\n",
    "\n",
    "By the beauty of backprop, we can optimize essentially any loss function you can think up."
   ]
  },
  {
   "cell_type": "code",
   "execution_count": null,
   "id": "5decceee-2365-4940-bbcc-0c077f07ece8",
   "metadata": {},
   "outputs": [],
   "source": [
    "net = MyNet(num_layers, hidden_size, num_features)\n",
    "optimizer = torch.optim.SGD(net.parameters(), lr=0.05)"
   ]
  },
  {
   "cell_type": "code",
   "execution_count": null,
   "id": "ead2f396-4795-4837-a3b1-2215714fabe0",
   "metadata": {},
   "outputs": [],
   "source": [
    "for epoch in range(20):\n",
    "    y_pred = net(X)\n",
    "    loss = ((y - y_pred).abs() ** 3).median()\n",
    "    optimizer.zero_grad()\n",
    "    loss.backward()\n",
    "    optimizer.step()\n",
    "    print(f\"Epoch {epoch:>2}: loss = {loss.item():2.5f}\")"
   ]
  },
  {
   "cell_type": "markdown",
   "id": "33629b65-5786-4fce-a459-98b42634fc5d",
   "metadata": {},
   "source": [
    "We have access to all sorts of other optimizers and modifications, like weight decay (which is similar to regularization)."
   ]
  },
  {
   "cell_type": "code",
   "execution_count": null,
   "id": "f32becec-c94c-400a-bece-e1fcdb0b7d76",
   "metadata": {},
   "outputs": [],
   "source": [
    "net = MyNet(num_layers, hidden_size, num_features)\n",
    "optimizer = torch.optim.Adam(net.parameters(), lr=0.05, weight_decay=1e-6)"
   ]
  },
  {
   "cell_type": "code",
   "execution_count": null,
   "id": "445f7e82-425f-45b7-9375-58b75f353fe1",
   "metadata": {},
   "outputs": [],
   "source": [
    "for epoch in range(20):\n",
    "    y_pred = net(X)\n",
    "    loss = ((y - y_pred).abs() ** 3).median()\n",
    "    optimizer.zero_grad()\n",
    "    loss.backward()\n",
    "    optimizer.step()\n",
    "    print(f\"Epoch {epoch:>2}: loss = {loss.item():2.5f}\")"
   ]
  },
  {
   "cell_type": "markdown",
   "id": "115cb66e-272f-448a-bcc1-280dbab72dbb",
   "metadata": {},
   "source": [
    "## GPUs\n",
    "\n",
    "(This likely won't work unless you have an M1/M2 mac)"
   ]
  },
  {
   "cell_type": "code",
   "execution_count": null,
   "id": "a4b4d3a1-dcb3-476a-89e9-2a80bd87b019",
   "metadata": {},
   "outputs": [],
   "source": [
    "if torch.backends.mps.is_available():\n",
    "    device = \"mps\"\n",
    "elif torch.cuda.is_available():\n",
    "    device = \"cuda:0\"\n",
    "else:\n",
    "    device = \"cpu\""
   ]
  },
  {
   "cell_type": "markdown",
   "id": "878f14ec-a1c7-42df-b7f3-e686670dc45c",
   "metadata": {},
   "source": [
    "We can send tensors and models to the GPU"
   ]
  },
  {
   "cell_type": "code",
   "execution_count": null,
   "id": "3eb9c1fc-205d-4245-9330-c5558fa3598b",
   "metadata": {},
   "outputs": [],
   "source": [
    "X = X.to(device)\n",
    "y = y.to(device)\n",
    "y"
   ]
  },
  {
   "cell_type": "code",
   "execution_count": null,
   "id": "99f829fa-64ab-481e-a2dc-ea40a5d890e6",
   "metadata": {},
   "outputs": [],
   "source": [
    "net = net.to(device)"
   ]
  },
  {
   "cell_type": "code",
   "execution_count": null,
   "id": "1ce522c1-5b16-4d85-9e58-054d8976ef05",
   "metadata": {},
   "outputs": [],
   "source": [
    "y_pred = net(X)"
   ]
  },
  {
   "cell_type": "markdown",
   "id": "26c5710c-8a94-48b0-9976-f502c8e1c0be",
   "metadata": {},
   "source": [
    "## Logistic Regression"
   ]
  },
  {
   "cell_type": "code",
   "execution_count": null,
   "id": "025b65d8-635e-4d21-a2b1-a8e6c2c30e42",
   "metadata": {},
   "outputs": [],
   "source": [
    "data = pd.read_csv(\"../../04/data/airline_satisfaction/train.csv\", index_col=0)\n",
    "data.head()"
   ]
  },
  {
   "cell_type": "code",
   "execution_count": null,
   "id": "3323f6c9-718a-45dc-b140-657f55212fd2",
   "metadata": {},
   "outputs": [],
   "source": [
    "# Train a simple model using only numerical features\n",
    "from sklearn.impute import SimpleImputer\n",
    "from sklearn.linear_model import LogisticRegression\n",
    "from sklearn.preprocessing import LabelEncoder, MaxAbsScaler"
   ]
  },
  {
   "cell_type": "code",
   "execution_count": null,
   "id": "5fb848a4-14a8-4dd8-b6c0-3487959a8aa7",
   "metadata": {},
   "outputs": [],
   "source": [
    "ignore_features = [\"id\"]\n",
    "features = [\n",
    "    column\n",
    "    for column, series in data.items()\n",
    "    if np.issubdtype(series.dtype, np.number) and column not in ignore_features\n",
    "]\n",
    "target = \"satisfaction\""
   ]
  },
  {
   "cell_type": "code",
   "execution_count": null,
   "id": "fbc57309-03b2-41d3-b90f-a51339230088",
   "metadata": {},
   "outputs": [],
   "source": [
    "X = data[features]\n",
    "# y is 0s and 1s\n",
    "label_encoder = LabelEncoder()\n",
    "y = label_encoder.fit_transform(data[target])"
   ]
  },
  {
   "cell_type": "code",
   "execution_count": null,
   "id": "31c4ec91-8b6c-4e3f-b1cc-9838e9c899eb",
   "metadata": {},
   "outputs": [],
   "source": [
    "imputer = SimpleImputer()\n",
    "scaler = MaxAbsScaler()\n",
    "X_trans = scaler.fit_transform(imputer.fit_transform(X))"
   ]
  },
  {
   "cell_type": "code",
   "execution_count": null,
   "id": "bb0501e3-3c18-41ac-9a26-735c19a94644",
   "metadata": {},
   "outputs": [],
   "source": [
    "y = torch.from_numpy(y).float()\n",
    "X_trans = torch.from_numpy(X_trans).float()"
   ]
  },
  {
   "cell_type": "code",
   "execution_count": null,
   "id": "1db27188-a88a-408f-bbba-5273bb2b339a",
   "metadata": {},
   "outputs": [],
   "source": [
    "num_samples, num_features = X_trans.shape"
   ]
  },
  {
   "cell_type": "code",
   "execution_count": null,
   "id": "8d624bc4-0e47-4a6c-b63a-656277a5b3c7",
   "metadata": {},
   "outputs": [],
   "source": [
    "model = torch.nn.Sequential(torch.nn.Linear(num_features, 1), torch.nn.Sigmoid())"
   ]
  },
  {
   "cell_type": "code",
   "execution_count": null,
   "id": "952dd8e4-8d53-4f97-834d-1555ad031ab9",
   "metadata": {},
   "outputs": [],
   "source": [
    "model"
   ]
  },
  {
   "cell_type": "code",
   "execution_count": null,
   "id": "3aca4134-6dd2-4209-a2b7-dc0fc21df54c",
   "metadata": {},
   "outputs": [],
   "source": [
    "optimizer = torch.optim.SGD(model.parameters(), lr=1.0)"
   ]
  },
  {
   "cell_type": "code",
   "execution_count": null,
   "id": "9a98244f-189c-4de3-98e6-64f5ab63581b",
   "metadata": {},
   "outputs": [],
   "source": [
    "loss_function = torch.nn.BCELoss()"
   ]
  },
  {
   "cell_type": "code",
   "execution_count": null,
   "id": "87d82550-c207-4923-84da-a339c7f46119",
   "metadata": {},
   "outputs": [],
   "source": [
    "batch_size = 32\n",
    "num_epochs = 200\n",
    "for epoch in range(1, num_epochs + 1):\n",
    "    epoch_loss = []\n",
    "    for start_idx in range(0, num_features, batch_size):\n",
    "        batch_slice = slice(start_idx, start_idx + batch_size)\n",
    "        y_pred = model(X_trans[batch_slice, :])[:, 0]\n",
    "        loss = loss_function(y_pred, y[batch_slice].float())\n",
    "        optimizer.zero_grad()\n",
    "        loss.backward()\n",
    "        optimizer.step()\n",
    "        epoch_loss.append(loss.item())\n",
    "    print(f\"Epoch {epoch:>2}: loss = {np.mean(epoch_loss):2.5f}\")"
   ]
  },
  {
   "cell_type": "code",
   "execution_count": null,
   "id": "27df3b5b-9cd1-4eaf-9556-c10b06c223a0",
   "metadata": {},
   "outputs": [],
   "source": [
    "model.eval()\n",
    "with torch.inference_mode():\n",
    "    y_pred = (model(X_trans) >= 0.5).numpy()\n",
    "    y = y.detach().numpy()"
   ]
  },
  {
   "cell_type": "code",
   "execution_count": null,
   "id": "7a67737e-2994-440c-8f4d-6e06f7e1212a",
   "metadata": {},
   "outputs": [],
   "source": [
    "from sklearn.metrics import ConfusionMatrixDisplay"
   ]
  },
  {
   "cell_type": "code",
   "execution_count": null,
   "id": "1fba2a2f-dca8-4e52-862a-dbd5bbe57933",
   "metadata": {},
   "outputs": [],
   "source": [
    "ax = ConfusionMatrixDisplay.from_predictions(y, y_pred)\n"
   ]
  },
  {
   "cell_type": "code",
   "execution_count": null,
   "id": "073eb45c-a599-41c7-907a-d776c4983bd8",
   "metadata": {},
   "outputs": [],
   "source": [
    "from sklearn.metrics import classification_report\n"
   ]
  },
  {
   "cell_type": "code",
   "execution_count": null,
   "id": "686514f3-bc69-4704-8bbc-f42213f69a66",
   "metadata": {},
   "outputs": [],
   "source": [
    "# Quick view of metrics:\n",
    "print(classification_report(y, y_pred))"
   ]
  },
  {
   "cell_type": "code",
   "execution_count": null,
   "id": "72bcd927-c047-42d5-8097-75931da815c8",
   "metadata": {},
   "outputs": [],
   "source": []
  }
 ],
 "metadata": {
  "kernelspec": {
   "display_name": "Python 3 (ipykernel)",
   "language": "python",
   "name": "python3"
  },
  "language_info": {
   "codemirror_mode": {
    "name": "ipython",
    "version": 3
   },
   "file_extension": ".py",
   "mimetype": "text/x-python",
   "name": "python",
   "nbconvert_exporter": "python",
   "pygments_lexer": "ipython3",
   "version": "3.11.5"
  }
 },
 "nbformat": 4,
 "nbformat_minor": 5
}
