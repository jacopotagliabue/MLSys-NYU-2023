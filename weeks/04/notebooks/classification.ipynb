{
 "cells": [
  {
   "cell_type": "code",
   "execution_count": null,
   "id": "15525d6e-92d7-4535-a6c2-e6ac540271f6",
   "metadata": {},
   "outputs": [],
   "source": [
    "import matplotlib.pyplot as plt\n",
    "import numpy as np\n",
    "import pandas as pd\n",
    "\n",
    "%config InlineBackend.figure_format = 'retina'"
   ]
  },
  {
   "cell_type": "code",
   "execution_count": null,
   "id": "2edeb891-9dbb-4d60-ac1b-6ee66b7bbcef",
   "metadata": {},
   "outputs": [],
   "source": [
    "RANDOM_SEED = 666"
   ]
  },
  {
   "cell_type": "code",
   "execution_count": null,
   "id": "60c519db-040e-4262-8232-343499442a54",
   "metadata": {},
   "outputs": [],
   "source": [
    "pd.set_option(\"display.max_columns\", None)"
   ]
  },
  {
   "cell_type": "markdown",
   "id": "c390561c-bb89-48bc-8cbd-6b1f722556fe",
   "metadata": {},
   "source": [
    "## Airline Passenger Satisfaction"
   ]
  },
  {
   "cell_type": "code",
   "execution_count": null,
   "id": "cfbe9042-6e73-4c03-9912-f1ef832463b7",
   "metadata": {},
   "outputs": [],
   "source": [
    "data = pd.read_csv(\"../data/airline_satisfaction/train.csv\", index_col=0)\n",
    "data.head()"
   ]
  },
  {
   "cell_type": "code",
   "execution_count": null,
   "id": "08870f4c-a147-4299-85e9-6ce177fa599b",
   "metadata": {},
   "outputs": [],
   "source": [
    "# Train a simple model using only numerical features\n",
    "from sklearn.impute import SimpleImputer\n",
    "from sklearn.linear_model import LogisticRegression\n",
    "from sklearn.preprocessing import LabelEncoder"
   ]
  },
  {
   "cell_type": "code",
   "execution_count": null,
   "id": "297afe19-986c-4879-85fc-ce73e9f9f28a",
   "metadata": {},
   "outputs": [],
   "source": [
    "ignore_features = [\"id\"]\n",
    "features = [\n",
    "    column\n",
    "    for column, series in data.items()\n",
    "    if np.issubdtype(series.dtype, np.number) and column not in ignore_features\n",
    "]\n",
    "target = \"satisfaction\""
   ]
  },
  {
   "cell_type": "code",
   "execution_count": null,
   "id": "027ca697-52f0-4eb9-a534-850999cef8a1",
   "metadata": {},
   "outputs": [],
   "source": [
    "X = data[features]\n",
    "# y is 0s and 1s\n",
    "label_encoder = LabelEncoder()\n",
    "y = label_encoder.fit_transform(data[target])"
   ]
  },
  {
   "cell_type": "code",
   "execution_count": null,
   "id": "55da9eef-134e-4782-b5d3-f28b64bff7dd",
   "metadata": {},
   "outputs": [],
   "source": [
    "X.shape"
   ]
  },
  {
   "cell_type": "code",
   "execution_count": null,
   "id": "7502f862-6877-4722-be20-ee2f478639d3",
   "metadata": {},
   "outputs": [],
   "source": [
    "y"
   ]
  },
  {
   "cell_type": "code",
   "execution_count": null,
   "id": "4273563f-60ef-4b5f-b681-fbb5588b816d",
   "metadata": {},
   "outputs": [],
   "source": [
    "imputer = SimpleImputer()\n",
    "X_trans = imputer.fit_transform(X)"
   ]
  },
  {
   "cell_type": "code",
   "execution_count": null,
   "id": "0acbc386-aa4e-472f-84a2-85cbb62b3cb7",
   "metadata": {},
   "outputs": [],
   "source": [
    "model = LogisticRegression(random_state=RANDOM_SEED)\n",
    "model = model.fit(X_trans, y)"
   ]
  },
  {
   "cell_type": "code",
   "execution_count": null,
   "id": "5f99832a-c994-40e2-9938-13309ca54bf5",
   "metadata": {},
   "outputs": [],
   "source": [
    "from sklearn.preprocessing import StandardScaler"
   ]
  },
  {
   "cell_type": "code",
   "execution_count": null,
   "id": "f4c52f7e-22e8-4d51-84ea-9bda6177aadf",
   "metadata": {},
   "outputs": [],
   "source": [
    "scaler = StandardScaler()\n",
    "imputer = SimpleImputer()\n",
    "\n",
    "X_trans = imputer.fit_transform(scaler.fit_transform(X))"
   ]
  },
  {
   "cell_type": "code",
   "execution_count": null,
   "id": "308611cc-1724-4daa-8f97-1c839420e644",
   "metadata": {},
   "outputs": [],
   "source": [
    "model = LogisticRegression(random_state=RANDOM_SEED)\n",
    "model = model.fit(X_trans, y)"
   ]
  },
  {
   "cell_type": "code",
   "execution_count": null,
   "id": "2361f3cb-c005-466d-9073-e2fc788a5893",
   "metadata": {},
   "outputs": [],
   "source": [
    "# predict_proba to get probabilities\n",
    "y_pred_proba = model.predict_proba(X_trans)"
   ]
  },
  {
   "cell_type": "code",
   "execution_count": null,
   "id": "c49c20d6-9b7b-48bf-a98a-8baaeacf04bf",
   "metadata": {},
   "outputs": [],
   "source": [
    "# The output of predict_proba is N x C\n",
    "# N -> number of samples\n",
    "# C -> number of classes\n",
    "print(y_pred_proba.shape)"
   ]
  },
  {
   "cell_type": "code",
   "execution_count": null,
   "id": "19f4d8f2-73eb-4449-8d35-206346046570",
   "metadata": {},
   "outputs": [],
   "source": [
    "y_pred_proba"
   ]
  },
  {
   "cell_type": "code",
   "execution_count": null,
   "id": "e9aa16b1-36ed-4c3f-b4e8-fe81c1ebd970",
   "metadata": {},
   "outputs": [],
   "source": [
    "# predict gives classes.\n",
    "# It assumes a default threshold of 0.5"
   ]
  },
  {
   "cell_type": "code",
   "execution_count": null,
   "id": "74d6bfb3-124b-4f0d-b07c-e858a1a1cca7",
   "metadata": {},
   "outputs": [],
   "source": [
    "y_pred = model.predict(X_trans)"
   ]
  },
  {
   "cell_type": "code",
   "execution_count": null,
   "id": "bf505343-38f9-4aa4-8e1e-ae7c725ccb59",
   "metadata": {},
   "outputs": [],
   "source": [
    "y_pred"
   ]
  },
  {
   "cell_type": "code",
   "execution_count": null,
   "id": "b95c50a1-f11b-4b9a-a4c7-716f7320debb",
   "metadata": {},
   "outputs": [],
   "source": [
    "from sklearn.metrics import ConfusionMatrixDisplay"
   ]
  },
  {
   "cell_type": "code",
   "execution_count": null,
   "id": "0f1773d6-2418-4a0d-bd2e-213227611dbc",
   "metadata": {},
   "outputs": [],
   "source": [
    "ax = ConfusionMatrixDisplay.from_predictions(y, y_pred)"
   ]
  },
  {
   "cell_type": "code",
   "execution_count": null,
   "id": "b57b0551-8d1a-49c2-8302-5823942e41fa",
   "metadata": {},
   "outputs": [],
   "source": [
    "from sklearn.metrics import classification_report"
   ]
  },
  {
   "cell_type": "code",
   "execution_count": null,
   "id": "3fc705a7-cae3-4af9-9752-1d9030db8767",
   "metadata": {},
   "outputs": [],
   "source": [
    "# Quick view of metrics:\n",
    "print(classification_report(y, y_pred))"
   ]
  },
  {
   "cell_type": "code",
   "execution_count": null,
   "id": "90ba8199-1afc-4e6e-9431-c76aa3a11ed3",
   "metadata": {},
   "outputs": [],
   "source": [
    "# Individual metrics available too\n",
    "from sklearn.metrics import f1_score, precision_score, recall_score"
   ]
  },
  {
   "cell_type": "code",
   "execution_count": null,
   "id": "529fc8ac-b9b6-4d43-bc88-b757f384b504",
   "metadata": {},
   "outputs": [],
   "source": [
    "for func in (precision_score, recall_score, f1_score):\n",
    "    print(f\"{func.__name__+':':20s} {func(y, y_pred):.4f}\")"
   ]
  },
  {
   "cell_type": "markdown",
   "id": "7d981edb-b5b0-485e-a9e5-93454156fef9",
   "metadata": {},
   "source": [
    "#### The threshold is a choice!"
   ]
  },
  {
   "cell_type": "code",
   "execution_count": null,
   "id": "e7e8d84e-fc4a-42dc-8ca3-7528bb7cf12f",
   "metadata": {},
   "outputs": [],
   "source": [
    "threshold = 0.4"
   ]
  },
  {
   "cell_type": "code",
   "execution_count": null,
   "id": "d8637eaa-bbc2-4bef-98aa-4d2323a173f1",
   "metadata": {},
   "outputs": [],
   "source": [
    "print(classification_report(y, y_pred_proba[:, 1] >= threshold))"
   ]
  },
  {
   "cell_type": "code",
   "execution_count": null,
   "id": "dc13ddb4-a225-46a9-a7e8-cdd5524d8623",
   "metadata": {},
   "outputs": [],
   "source": [
    "from sklearn.metrics import PrecisionRecallDisplay, RocCurveDisplay"
   ]
  },
  {
   "cell_type": "code",
   "execution_count": null,
   "id": "f48e816c-fa1c-455b-b338-84a77d863ced",
   "metadata": {},
   "outputs": [],
   "source": [
    "ax = PrecisionRecallDisplay.from_predictions(y, y_pred_proba[:, 1])"
   ]
  },
  {
   "cell_type": "code",
   "execution_count": null,
   "id": "d18e1161-8b6b-484a-9504-958520044c7f",
   "metadata": {},
   "outputs": [],
   "source": [
    "ax = RocCurveDisplay.from_predictions(y, y_pred_proba[:, 1])"
   ]
  },
  {
   "cell_type": "markdown",
   "id": "90740b21-3cf7-4975-a3e8-e66fd72d8433",
   "metadata": {},
   "source": [
    "## Global Speech Accent Recognition"
   ]
  },
  {
   "cell_type": "code",
   "execution_count": null,
   "id": "c2b9f5b7-ec10-4b16-b0e0-832dcbfaaae9",
   "metadata": {},
   "outputs": [],
   "source": [
    "data = pd.read_csv(\"../data/accent_recognition/train.csv\")\n",
    "data.head()"
   ]
  },
  {
   "cell_type": "code",
   "execution_count": null,
   "id": "f3ab8f81-063e-4825-afe1-08ddc460f558",
   "metadata": {},
   "outputs": [],
   "source": [
    "features = [\n",
    "    \"X1\",\n",
    "    \"X2\",\n",
    "    \"X3\",\n",
    "    \"X4\",\n",
    "    \"X5\",\n",
    "    \"X6\",\n",
    "    \"X7\",\n",
    "    \"X8\",\n",
    "    \"X9\",\n",
    "    \"X10\",\n",
    "    \"X11\",\n",
    "    \"X12\",\n",
    "]\n",
    "target = \"language\""
   ]
  },
  {
   "cell_type": "code",
   "execution_count": null,
   "id": "5be456fa-8ff6-4f1a-a705-a9d79fd70910",
   "metadata": {},
   "outputs": [],
   "source": [
    "X = data[features]\n",
    "label_encoder = LabelEncoder()\n",
    "y = label_encoder.fit_transform(data[target])"
   ]
  },
  {
   "cell_type": "code",
   "execution_count": null,
   "id": "1f808aa7-ee04-469f-8635-a0d8250d96a0",
   "metadata": {},
   "outputs": [],
   "source": [
    "y"
   ]
  },
  {
   "cell_type": "code",
   "execution_count": null,
   "id": "2634092c-ae4f-4214-9d43-41ae5b325cfd",
   "metadata": {},
   "outputs": [],
   "source": [
    "scaler = StandardScaler()\n",
    "X_trans = scaler.fit_transform(X)"
   ]
  },
  {
   "cell_type": "code",
   "execution_count": null,
   "id": "56840a34-262e-45cd-be8e-9c916a9332ab",
   "metadata": {},
   "outputs": [],
   "source": [
    "model = LogisticRegression(random_state=RANDOM_SEED)\n",
    "model.fit(X_trans, y)"
   ]
  },
  {
   "cell_type": "code",
   "execution_count": null,
   "id": "0501c67b-945a-42aa-b0e9-40cc0232f944",
   "metadata": {},
   "outputs": [],
   "source": [
    "y_pred_proba = model.predict_proba(X_trans)"
   ]
  },
  {
   "cell_type": "code",
   "execution_count": null,
   "id": "2a48bd3a-780f-4cf7-baae-2812bbc6abc3",
   "metadata": {},
   "outputs": [],
   "source": [
    "y_pred_proba.shape"
   ]
  },
  {
   "cell_type": "code",
   "execution_count": null,
   "id": "5e7e37df-16fd-49ad-99b4-8f47df35f4da",
   "metadata": {},
   "outputs": [],
   "source": [
    "y_pred_proba"
   ]
  },
  {
   "cell_type": "code",
   "execution_count": null,
   "id": "260d6b11-fcc4-4531-8353-36aa342a19ac",
   "metadata": {},
   "outputs": [],
   "source": [
    "y_pred = model.predict(X_trans)"
   ]
  },
  {
   "cell_type": "code",
   "execution_count": null,
   "id": "6057e7b1-da9d-4e47-b5d5-0b0c4937cc6d",
   "metadata": {},
   "outputs": [],
   "source": [
    "y_pred"
   ]
  },
  {
   "cell_type": "code",
   "execution_count": null,
   "id": "80622601-d548-4105-867d-513a16370e7e",
   "metadata": {},
   "outputs": [],
   "source": [
    "ConfusionMatrixDisplay.from_predictions(y, y_pred)"
   ]
  },
  {
   "cell_type": "code",
   "execution_count": null,
   "id": "cf85099e-f187-41a8-9932-da6c19b619d1",
   "metadata": {},
   "outputs": [],
   "source": [
    "label_encoder.inverse_transform([5])"
   ]
  },
  {
   "cell_type": "code",
   "execution_count": null,
   "id": "bc514352-fc77-4343-b723-a64531a02cfb",
   "metadata": {},
   "outputs": [],
   "source": [
    "data[target].value_counts()"
   ]
  },
  {
   "cell_type": "code",
   "execution_count": null,
   "id": "d1eae5d3-ea26-4e0f-8d3f-c74eafac4f7d",
   "metadata": {},
   "outputs": [],
   "source": [
    "model = LogisticRegression(class_weight=\"balanced\", random_state=RANDOM_SEED)\n",
    "model.fit(X_trans, y)"
   ]
  },
  {
   "cell_type": "code",
   "execution_count": null,
   "id": "130d7096-e6d6-4eb3-b513-a4860e780aa5",
   "metadata": {},
   "outputs": [],
   "source": [
    "y_pred = model.predict(X_trans)"
   ]
  },
  {
   "cell_type": "code",
   "execution_count": null,
   "id": "d6039bf2-5c61-4952-8e89-c47b6f9e650a",
   "metadata": {},
   "outputs": [],
   "source": [
    "ax = ConfusionMatrixDisplay.from_predictions(y, y_pred)"
   ]
  },
  {
   "cell_type": "code",
   "execution_count": null,
   "id": "0f5795e1-4f8d-4388-956d-9fe000681160",
   "metadata": {},
   "outputs": [],
   "source": [
    "print(classification_report(y, y_pred, target_names=label_encoder.classes_))"
   ]
  },
  {
   "cell_type": "code",
   "execution_count": null,
   "id": "2ea27f38-84dd-49c0-abfd-c63aaeae2558",
   "metadata": {},
   "outputs": [],
   "source": [
    "for func in (precision_score, recall_score, f1_score):\n",
    "    for avg in (\"micro\", \"macro\"):\n",
    "        print(f\"{func.__name__+f' ({avg}):':30s} {func(y, y_pred, average=avg):.4f}\")"
   ]
  },
  {
   "cell_type": "code",
   "execution_count": null,
   "id": "3fdff6ae-df62-4cc8-bfff-ac051b316da7",
   "metadata": {},
   "outputs": [],
   "source": [
    "from sklearn.ensemble import RandomForestClassifier"
   ]
  },
  {
   "cell_type": "code",
   "execution_count": null,
   "id": "9f6f39ab-4d4c-4124-87f9-1639413af721",
   "metadata": {},
   "outputs": [],
   "source": [
    "model = RandomForestClassifier(class_weight=\"balanced\", random_state=RANDOM_SEED)\n",
    "model.fit(X_trans, y)"
   ]
  },
  {
   "cell_type": "code",
   "execution_count": null,
   "id": "237c23ea-d852-4774-9947-6b305129f4d8",
   "metadata": {},
   "outputs": [],
   "source": [
    "y_pred = model.predict(X_trans)"
   ]
  },
  {
   "cell_type": "code",
   "execution_count": null,
   "id": "3d61e329-7995-4d98-92e5-2bc86fc2fbda",
   "metadata": {},
   "outputs": [],
   "source": [
    "ax = ConfusionMatrixDisplay.from_predictions(y, y_pred)"
   ]
  },
  {
   "cell_type": "code",
   "execution_count": null,
   "id": "6a75eb20-e9d7-43cc-b75b-5c89b27cca74",
   "metadata": {},
   "outputs": [],
   "source": []
  }
 ],
 "metadata": {
  "kernelspec": {
   "display_name": "week4",
   "language": "python",
   "name": "week4"
  },
  "language_info": {
   "codemirror_mode": {
    "name": "ipython",
    "version": 3
   },
   "file_extension": ".py",
   "mimetype": "text/x-python",
   "name": "python",
   "nbconvert_exporter": "python",
   "pygments_lexer": "ipython3",
   "version": "3.9.12"
  }
 },
 "nbformat": 4,
 "nbformat_minor": 5
}
