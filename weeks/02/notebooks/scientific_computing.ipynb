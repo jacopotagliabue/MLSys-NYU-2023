{
 "cells": [
  {
   "cell_type": "markdown",
   "id": "ff23835d-5ee5-42d4-ada0-f7a28a406a71",
   "metadata": {},
   "source": [
    "# Intro to Scientific Computing\n",
    "\n",
    "## Jupyter\n",
    "\n",
    "You are running a [Jupyter](https://jupyter.org/) Notebook. This is an interactive development environment where we can selectively run \"cells\". Cells can run code, provide documentation, display plots, and more. When you highlight a cell and click Shift+Enter, the cell \"runs\". Be careful, though --  you can run cells out of order!"
   ]
  },
  {
   "cell_type": "code",
   "execution_count": null,
   "id": "5b2dea4f-d0ec-4d8c-a85f-980cbb834cc9",
   "metadata": {},
   "outputs": [],
   "source": []
  },
  {
   "cell_type": "markdown",
   "id": "57a2670f-7208-47dc-969b-f7892b72fc74",
   "metadata": {},
   "source": [
    "## [numpy](https://numpy.org/)\n",
    "\n",
    "`numpy` is an \"array programming library\". It allows us to perform mathematical operations efficiently on vectors, matrices, and higher-dimensional arrays. The fundamental component of `numpy` is the `array`. Remember that in machine learning we want an `X` feature matrix (the inputs to our model) and a `y` vector of ground truth. Generally, we will want to use `numpy` to construct `X` and `y`."
   ]
  },
  {
   "cell_type": "code",
   "execution_count": null,
   "id": "7b380cc8-21ed-440f-9949-acfe961cfedb",
   "metadata": {},
   "outputs": [],
   "source": [
    "# Common convention is to rename numpy `np`.\n",
    "import numpy as np"
   ]
  },
  {
   "cell_type": "code",
   "execution_count": null,
   "id": "8df59193-ff93-4566-9380-a70bb9758c7f",
   "metadata": {},
   "outputs": [],
   "source": [
    "X = np.array([[1, 2, 3], [4, 5, 6], [7, 8, 9]])\n",
    "X"
   ]
  },
  {
   "cell_type": "code",
   "execution_count": null,
   "id": "ee24d048-6db0-4d4b-a32a-639ce0858506",
   "metadata": {},
   "outputs": [],
   "source": [
    "X.shape"
   ]
  },
  {
   "cell_type": "code",
   "execution_count": null,
   "id": "5cc284ca-4dda-45a8-b982-055838677581",
   "metadata": {},
   "outputs": [],
   "source": [
    "y = np.array([1, 2, 3])\n",
    "y"
   ]
  },
  {
   "cell_type": "code",
   "execution_count": null,
   "id": "0846b393-e904-4d51-8274-a40c1fa729cd",
   "metadata": {},
   "outputs": [],
   "source": [
    "y.shape"
   ]
  },
  {
   "cell_type": "markdown",
   "id": "149e4268-a68f-413a-8680-a178d6f23033",
   "metadata": {},
   "source": [
    "You can perform many linear algebra operations with `numpy`:"
   ]
  },
  {
   "cell_type": "code",
   "execution_count": null,
   "id": "3627fcd1-80fc-4594-b8ce-d6dd76905ba3",
   "metadata": {},
   "outputs": [],
   "source": [
    "# Scalar operations\n",
    "y * 2 + 1"
   ]
  },
  {
   "cell_type": "code",
   "execution_count": null,
   "id": "6543f527-1a4c-498b-9777-2d16a6eec30a",
   "metadata": {},
   "outputs": [],
   "source": [
    "# Elementwise multiplication\n",
    "X * X"
   ]
  },
  {
   "cell_type": "code",
   "execution_count": null,
   "id": "48e3eea1-d690-4c3b-adae-887824a12a4e",
   "metadata": {},
   "outputs": [],
   "source": [
    "# Matrix multiplication\n",
    "X @ X"
   ]
  },
  {
   "cell_type": "code",
   "execution_count": null,
   "id": "13fc7ccd-3b85-406a-a58f-d147e82cb57d",
   "metadata": {},
   "outputs": [],
   "source": [
    "# Multiplication of vectors and matrices"
   ]
  },
  {
   "cell_type": "code",
   "execution_count": null,
   "id": "0ce8bf1e-42be-4633-9096-3bc354d6fe88",
   "metadata": {},
   "outputs": [],
   "source": [
    "# Create a 1-D column vector by using `reshape`\n",
    "beta = np.array([0.1, 0.2, 0.3]).reshape(-1, 1)\n",
    "beta.shape"
   ]
  },
  {
   "cell_type": "code",
   "execution_count": null,
   "id": "4401c564-acb8-43f0-9f9b-58e7fa36d5fc",
   "metadata": {},
   "outputs": [],
   "source": [
    "y_pred = X.dot(beta)"
   ]
  },
  {
   "cell_type": "code",
   "execution_count": null,
   "id": "f7676851-a8a0-4940-8353-4d9a0a2cd618",
   "metadata": {},
   "outputs": [],
   "source": [
    "y_pred"
   ]
  },
  {
   "cell_type": "markdown",
   "id": "1df697ae-936b-48a0-b5a6-5dd096aa0d39",
   "metadata": {},
   "source": [
    "# [pandas](https://pandas.pydata.org/)\n",
    "\n",
    "`pandas` is a data analysis library built on top of `numpy`. The fundamental component of `pandas` is the `DataFrame` which is similar to an Excel spreadsheet. You can alternatively think of it as a numpy matrix, where each row is a data point, and we have columns with names. `pandas` also has functionality for reading and writing data in different formats and plotting data.\n",
    "\n",
    "I grabbed an actual housing dataset from [Kaggle](https://www.kaggle.com/competitions/house-prices-advanced-regression-techniques/overview). The data consists of information about houses in Ames, Iowa, including the sale price of the house. The dataset is called `train.csv`, and it's located in the `data` folder that's above this notebook's folder. There is also a file called `data_description.txt` that contains information about the data. We can read that data from disk into a pandas `DataFrame`."
   ]
  },
  {
   "cell_type": "code",
   "execution_count": null,
   "id": "23fc1e85-4e67-45c2-bc5a-d5d04dbf2e31",
   "metadata": {},
   "outputs": [],
   "source": [
    "# Common convention is to rename pandas `pd`.\n",
    "import pandas as pd"
   ]
  },
  {
   "cell_type": "code",
   "execution_count": null,
   "id": "47e06db5-7de0-4638-bb3a-7f01802672c2",
   "metadata": {},
   "outputs": [],
   "source": [
    "# Read the CSV file into a pandas dataframe\n",
    "housing_data = pd.read_csv(\"../data/train.csv\")\n",
    "# Display the first 5 rows of the dataframe.\n",
    "housing_data.head()"
   ]
  },
  {
   "cell_type": "markdown",
   "id": "4b9a03ee-2de7-4d16-a303-7a191e7764f7",
   "metadata": {},
   "source": [
    "An individual row or column of a `DataFrame` is a `Series`. A `Series` is kind of like a one-dimensional `DataFrame`."
   ]
  },
  {
   "cell_type": "code",
   "execution_count": null,
   "id": "2007ccc6-60c6-4ece-908e-fb9c2ca25876",
   "metadata": {},
   "outputs": [],
   "source": [
    "# Select the third row\n",
    "housing_data.iloc[3]"
   ]
  },
  {
   "cell_type": "code",
   "execution_count": null,
   "id": "3b98d5a0-4e57-45c1-a19e-70e5ea214255",
   "metadata": {},
   "outputs": [],
   "source": [
    "# Select the SalePrice column\n",
    "housing_data[\"SalePrice\"]"
   ]
  },
  {
   "cell_type": "code",
   "execution_count": null,
   "id": "64b6fcb0-b1b0-4c0e-b8bd-eac747ef0117",
   "metadata": {},
   "outputs": [],
   "source": [
    "# Select multiple columns\n",
    "housing_data[[\"SalePrice\", \"LotArea\"]]"
   ]
  },
  {
   "cell_type": "markdown",
   "id": "dd81ca1c-eb19-4317-ab56-ac4b22ead0fe",
   "metadata": {},
   "source": [
    "Similar to `numpy`, we can perform mathematical operations on the DataFrame."
   ]
  },
  {
   "cell_type": "code",
   "execution_count": null,
   "id": "263c0d3f-0d2d-46f1-a311-8d2868b9d704",
   "metadata": {},
   "outputs": [],
   "source": [
    "housing_data[\"SalePrice\"] * 2 + housing_data[\"LotArea\"]"
   ]
  },
  {
   "cell_type": "markdown",
   "id": "3345b2cf-13bc-49ce-ae09-fde764624b67",
   "metadata": {},
   "source": [
    "We can add and remove columns"
   ]
  },
  {
   "cell_type": "code",
   "execution_count": null,
   "id": "fdc7776a-4183-4211-a5ba-109da0cc4e88",
   "metadata": {},
   "outputs": [],
   "source": [
    "housing_data[\"double_sale_price\"] = housing_data[\"SalePrice\"] * 2"
   ]
  },
  {
   "cell_type": "code",
   "execution_count": null,
   "id": "68aca810-c540-4591-93c5-b90aa3ca3783",
   "metadata": {},
   "outputs": [],
   "source": [
    "housing_data.columns"
   ]
  },
  {
   "cell_type": "code",
   "execution_count": null,
   "id": "89f04a9c-3acf-4df5-a0e5-94d7174b0a2d",
   "metadata": {},
   "outputs": [],
   "source": [
    "\"Street\" in housing_data.columns"
   ]
  },
  {
   "cell_type": "code",
   "execution_count": null,
   "id": "eb178e87-1e99-4cc4-bc81-2373bb8e5dce",
   "metadata": {},
   "outputs": [],
   "source": [
    "housing_data = housing_data.drop(columns=[\"Street\"])"
   ]
  },
  {
   "cell_type": "code",
   "execution_count": null,
   "id": "02b43bae-a2f9-40f8-8ac0-bab697c117cc",
   "metadata": {},
   "outputs": [],
   "source": [
    "\"Street\" in housing_data.columns"
   ]
  },
  {
   "cell_type": "markdown",
   "id": "2c624f26-314e-4c0f-8c28-6aac43156117",
   "metadata": {},
   "source": [
    "We can also convert DataFrames and Series to numpy arrays"
   ]
  },
  {
   "cell_type": "code",
   "execution_count": null,
   "id": "cf5f1ebd-dc39-4fa8-8a09-bd3690389368",
   "metadata": {},
   "outputs": [],
   "source": [
    "# Convert DataFrame to 2D array (i.e. a matrix)\n",
    "housing_data[[\"SalePrice\", \"LotArea\"]].values"
   ]
  },
  {
   "cell_type": "code",
   "execution_count": null,
   "id": "76be5030-d90c-41cd-90a4-435b360e8b64",
   "metadata": {},
   "outputs": [],
   "source": [
    "# Convert Series to a 1D array (i.e. a vector)\n",
    "housing_data[\"SalePrice\"].values"
   ]
  },
  {
   "cell_type": "markdown",
   "id": "efe19644-63d3-491d-8a3d-422a26f5ebb0",
   "metadata": {},
   "source": [
    "# [scikit-learn](https://scikit-learn.org/stable/)\n",
    "\n",
    "`scikit-learn` is a library for performing machine learning in Python. This will be the primary library that we use this semester for training ML models. Recall that our constant goal is to construct the `X` feature matrix and the `y` vector of ground truth. In `scikit-learn`, you \"fit\" (aka train) your model with `X` and `y` as inputs. `X` and `y` can be numpy arrays, pandas DataFrames, or lists.\n",
    "\n",
    "The `scikit-learn` process is to instantiate a model, `fit` it on `X` and `y`, and then `predict` using `X`.\n",
    "\n",
    "Just like in the Week 1 slides, let's build a model to predict the sale price using the square footage of the house. There are different columns for each floor's square footage in our dataset, so we will add these all together to get a single column containing the total square footage:"
   ]
  },
  {
   "cell_type": "code",
   "execution_count": null,
   "id": "30d5f621-0b9e-4731-8f1b-ad0603c145fd",
   "metadata": {},
   "outputs": [],
   "source": [
    "# Reload clean housing data because we previously manipulated it.\n",
    "housing_data = pd.read_csv(\"../data/train.csv\")"
   ]
  },
  {
   "cell_type": "code",
   "execution_count": null,
   "id": "9de7ba13-7656-4a15-8420-b0b079280c96",
   "metadata": {},
   "outputs": [],
   "source": [
    "housing_data[\"total_area\"] = (\n",
    "    housing_data[\"1stFlrSF\"] \n",
    "    + housing_data[\"2ndFlrSF\"] \n",
    "    + housing_data[\"TotalBsmtSF\"]\n",
    ")"
   ]
  },
  {
   "cell_type": "markdown",
   "id": "dc0b28cb-a130-4f07-9252-16b7c96b4a6e",
   "metadata": {},
   "source": [
    "We'll now generate a plot of the Square Footage versus the Sale Price. We'll use [matplotlib](https://matplotlib.org/) to generate the plot. This is a pretty confusing library to use, but it's the standard plotting libray in Python. We'll write a function for generating this plot because we will make this plot again later in the notebook."
   ]
  },
  {
   "cell_type": "code",
   "execution_count": null,
   "id": "4ff96914-a0e1-4451-ad49-358c5e669231",
   "metadata": {},
   "outputs": [],
   "source": [
    "# Common convention is to rename pyplot plt\n",
    "# Most matplotlib commands come from pyplot.\n",
    "import matplotlib.pyplot as plt\n",
    "from matplotlib import ticker\n",
    "\n",
    "# This cryptic line below is a \"magic\" command in jupyter to make the\n",
    "# matplotlib plots high resolution\n",
    "%config InlineBackend.figure_format = \"retina\""
   ]
  },
  {
   "cell_type": "code",
   "execution_count": null,
   "id": "6d052891-69d5-44b5-9f69-5e056c6515b7",
   "metadata": {},
   "outputs": [],
   "source": [
    "# These commands adjust various font sizes in the matplotlib plots.\n",
    "plt.rcParams[\"xtick.labelsize\"] = 14\n",
    "plt.rcParams[\"ytick.labelsize\"] = 14\n",
    "plt.rcParams[\"axes.labelsize\"] = 16\n",
    "plt.rcParams[\"axes.titlesize\"] = 18"
   ]
  },
  {
   "cell_type": "code",
   "execution_count": null,
   "id": "671e322d-8571-463f-a966-2894f4f1785c",
   "metadata": {},
   "outputs": [],
   "source": [
    "def plot_area_vs_price(housing_data):\n",
    "    fig, ax = plt.subplots()\n",
    "    ax.scatter(\n",
    "        x=housing_data[\"total_area\"], \n",
    "        y=housing_data[\"SalePrice\"], \n",
    "        alpha=0.25, \n",
    "        edgecolors=\"none\"\n",
    "    )\n",
    "    formatter = lambda x, pos: f\"${int(x/1000):,}K\"\n",
    "    ax.yaxis.set_major_formatter(formatter)\n",
    "    ax.set_ylabel(\"Sale Price\")\n",
    "    ax.set_xlabel(\"Total Area (Square Feet)\")\n",
    "    return ax"
   ]
  },
  {
   "cell_type": "code",
   "execution_count": null,
   "id": "3a17dc0f-c4d2-4beb-b563-cdf7d3e5358e",
   "metadata": {},
   "outputs": [],
   "source": [
    "ax = plot_area_vs_price(housing_data)"
   ]
  },
  {
   "cell_type": "markdown",
   "id": "149f7fcb-49af-48ae-98ed-a6a6107c09d2",
   "metadata": {},
   "source": [
    "Now, let's fit a linear model where the input is just the Total Area. Remember, the `scikit-learn` workflow is to create the model, and then fit it on `X` and `y`."
   ]
  },
  {
   "cell_type": "code",
   "execution_count": null,
   "id": "c9dfed25-151a-4836-a484-7fe0df76664c",
   "metadata": {},
   "outputs": [],
   "source": [
    "# While the name of the package is scikit-learn, you import it as sklearn.\n",
    "from sklearn.linear_model import LinearRegression"
   ]
  },
  {
   "cell_type": "code",
   "execution_count": null,
   "id": "99540d4c-700f-428c-9547-fea8cbac3047",
   "metadata": {},
   "outputs": [],
   "source": [
    "# All scikit-learn models are classes, and we must instantiate them.\n",
    "# Different models take different model-specific arguments. \n",
    "# Here, we make sure that we fit a y-intercept/bias term.\n",
    "model = LinearRegression(fit_intercept=True)"
   ]
  },
  {
   "cell_type": "code",
   "execution_count": null,
   "id": "2ceecda5-41a2-4cb1-b3ea-6fb1f6139a8d",
   "metadata": {},
   "outputs": [],
   "source": [
    "# Construct our X and y\n",
    "X = housing_data[[\"total_area\"]]\n",
    "y = housing_data[\"SalePrice\"]"
   ]
  },
  {
   "cell_type": "markdown",
   "id": "4dfe8f3c-e498-425e-b364-d0e7a14083dc",
   "metadata": {},
   "source": [
    "Note: scikit-learn expects `X` to be a 2D matrix (rows are samples, columns are features). Even though we only have a single feature, we selected the column from the DataFrame using double brackets. This ensures a 2D DataFrame is returned rather then a 1D Series. `y`, on the other hand, was selected using single brackets, and it's now a 1D Series."
   ]
  },
  {
   "cell_type": "code",
   "execution_count": null,
   "id": "e64d5aea-e829-4b1a-a77c-ad099483698f",
   "metadata": {},
   "outputs": [],
   "source": [
    "print(f\"X: type={type(X)}, shape={X.shape}\")\n",
    "print(f\"y: type={type(y)}, shape={y.shape}\")"
   ]
  },
  {
   "cell_type": "markdown",
   "id": "5110341e-80a3-42b6-92e9-5f05aa39c7c0",
   "metadata": {},
   "source": [
    "Anyway, let's fit our model."
   ]
  },
  {
   "cell_type": "code",
   "execution_count": null,
   "id": "c53e7155-3d6f-4e8e-ac90-352a60e4d672",
   "metadata": {},
   "outputs": [],
   "source": [
    "model = model.fit(X, y)"
   ]
  },
  {
   "cell_type": "markdown",
   "id": "bf67cd8e-a649-411d-9a95-c42f09ec88b8",
   "metadata": {},
   "source": [
    "And let's generate predictions with the model on the same dataset that we fit it with."
   ]
  },
  {
   "cell_type": "code",
   "execution_count": null,
   "id": "9851a292-a770-4559-b6fc-3f9e62725bbb",
   "metadata": {},
   "outputs": [],
   "source": [
    "predictions = model.predict(X)"
   ]
  },
  {
   "cell_type": "markdown",
   "id": "6d1a9403-23fc-44e0-beff-f51720351c43",
   "metadata": {},
   "source": [
    "We can plot our predictions alongside our original plot."
   ]
  },
  {
   "cell_type": "code",
   "execution_count": null,
   "id": "f62eb2d2-f0ea-41fd-bbcc-19048a1b4b40",
   "metadata": {},
   "outputs": [],
   "source": [
    "ax = plot_area_vs_price(housing_data)\n",
    "ax.plot(X.values[:, 0], predictions, color=\"red\", label=\"model prediction\")\n",
    "ax.legend()\n",
    "None"
   ]
  },
  {
   "cell_type": "markdown",
   "id": "762b349f-32c9-470d-beb5-5d5d0bb08976",
   "metadata": {},
   "source": [
    "We can also plot a comparison between the predicted sale price and the actual sale price."
   ]
  },
  {
   "cell_type": "code",
   "execution_count": null,
   "id": "cd499ef8-483e-4911-a58d-9e7f017845f3",
   "metadata": {},
   "outputs": [],
   "source": [
    "def comparison_plot(actual, predictions):\n",
    "\n",
    "    fig, ax = plt.subplots(figsize=(8, 8))\n",
    "    ax.scatter(actual, predictions)\n",
    "    ax.set_xlabel(\"Actual\")\n",
    "    ax.set_ylabel(\"Predicted\")\n",
    "    ax.set_title(\"Home Price Predictions\")\n",
    "\n",
    "    formatter = lambda x, pos: f\"${int(x/1000):,}K\"\n",
    "    ax.xaxis.set_major_formatter(formatter)\n",
    "    ax.yaxis.set_major_formatter(formatter)\n",
    "\n",
    "    # Make the axis limits equal so that the figure\n",
    "    # is perfectly square.\n",
    "    xmin, xmax = ax.get_xlim()\n",
    "    ymin, ymax = ax.get_ylim()\n",
    "\n",
    "    lim = (min(xmin, ymin), max(xmax, ymax))\n",
    "    ax.set_xlim(lim)\n",
    "    ax.set_ylim(lim)\n",
    "\n",
    "    # Plot a 1:1 line to show where a perfect model's points would lie.\n",
    "    line = np.linspace(lim[0], lim[1], 201)\n",
    "    ax.plot(line, line, color=\"red\", linestyle=\"dashed\")\n",
    "    return ax\n",
    "\n",
    "ax = comparison_plot(y, predictions)"
   ]
  },
  {
   "cell_type": "markdown",
   "id": "c523a12d-38c8-4045-bd5e-eb175606825d",
   "metadata": {},
   "source": [
    "Lastly, let's calculate the $R^{2}$ for the model"
   ]
  },
  {
   "cell_type": "code",
   "execution_count": null,
   "id": "e6aa84fe-1c84-4606-b54e-a711814b22dd",
   "metadata": {},
   "outputs": [],
   "source": [
    "from sklearn.metrics import r2_score"
   ]
  },
  {
   "cell_type": "code",
   "execution_count": null,
   "id": "82694177-6373-4fb2-83dc-bfbb37b5f194",
   "metadata": {},
   "outputs": [],
   "source": [
    "R2 = r2_score(y, predictions)\n",
    "print(f\"R^2 = {R2:4.3f}\")"
   ]
  }
 ],
 "metadata": {
  "kernelspec": {
   "display_name": "Python 3 (ipykernel)",
   "language": "python",
   "name": "python3"
  },
  "language_info": {
   "codemirror_mode": {
    "name": "ipython",
    "version": 3
   },
   "file_extension": ".py",
   "mimetype": "text/x-python",
   "name": "python",
   "nbconvert_exporter": "python",
   "pygments_lexer": "ipython3",
   "version": "3.11.5"
  }
 },
 "nbformat": 4,
 "nbformat_minor": 5
}
