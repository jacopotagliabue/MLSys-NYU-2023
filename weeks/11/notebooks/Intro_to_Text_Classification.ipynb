{
 "cells": [
  {
   "cell_type": "markdown",
   "id": "underlying-payroll",
   "metadata": {},
   "source": [
    "# Intro to Text Classification"
   ]
  },
  {
   "cell_type": "markdown",
   "id": "98fc4063",
   "metadata": {},
   "source": [
    "In this notebook we experiment with methods to transform sentences into vectors, and use vectors for text classification.\n",
    "\n",
    "While a lot of contemporary NLP is neural, discussing simpler techniques first will help us introduce some terminology and build some intuition on what (doesn't) work(s) and why.\n",
    "\n",
    "You are encouraged to play around with the code and modify / re-built parts of it as you fit: there is NO substitute for \"tinkering with code\" to understand how all the concepts fit together (corollary: all this code is written for pedagogical purposes, so some functions are re-used from previous lectures to provide a self-sufficient script)."
   ]
  },
  {
   "cell_type": "code",
   "execution_count": 1,
   "id": "diagnostic-buying",
   "metadata": {},
   "outputs": [],
   "source": [
    "# some global import\n",
    "# we import specific libraries in due time\n",
    "import numpy as np\n",
    "import pandas as pd\n",
    "from matplotlib import pyplot as plt"
   ]
  },
  {
   "cell_type": "code",
   "execution_count": 2,
   "id": "identical-disability",
   "metadata": {},
   "outputs": [],
   "source": [
    "%matplotlib inline"
   ]
  },
  {
   "cell_type": "markdown",
   "id": "0ebe1e72",
   "metadata": {},
   "source": [
    "## Data loading"
   ]
  },
  {
   "cell_type": "code",
   "execution_count": 3,
   "id": "c286cfaf",
   "metadata": {},
   "outputs": [],
   "source": [
    "import string\n",
    "\n",
    "# some utils function\n",
    "def get_finance_sentiment_dataset(split: str='sentences_allagree'):\n",
    "    # load financial dataset from HF\n",
    "    from datasets import load_dataset\n",
    "    # https://huggingface.co/datasets/financial_phrasebank\n",
    "    # by default, load just sentences for which all annotators agree\n",
    "    dataset = load_dataset(\"financial_phrasebank\", split)\n",
    "    \n",
    "    return dataset['train']\n",
    "\n",
    "\n",
    "def get_finance_sentences():\n",
    "    dataset = get_finance_sentiment_dataset()\n",
    "    cleaned_dataset = [[pre_process_sentence(_['sentence']), _['label']] for _ in dataset]\n",
    "    # debug \n",
    "    print(\"{} cleaned sentences from finance dataset\\n\".format(len(cleaned_dataset)))\n",
    "    \n",
    "    return cleaned_dataset\n",
    "\n",
    "\n",
    "def pre_process_sentence(sentence: str):\n",
    "    # this choices are VERY important. Here, we take a simplified \n",
    "    # view, remove the punctuations and just lower case everything\n",
    "    lower_sentence = sentence.lower()\n",
    "    # remove punctuation\n",
    "    # nice suggestion from https://stackoverflow.com/questions/265960/best-way-to-strip-punctuation-from-a-string\n",
    "    # if we change the exclude set, we can control what to exclude\n",
    "    exclude = set(string.punctuation)\n",
    "    return ''.join(ch for ch in lower_sentence if ch not in exclude)"
   ]
  },
  {
   "cell_type": "code",
   "execution_count": 4,
   "id": "44bcd289",
   "metadata": {},
   "outputs": [
    {
     "name": "stderr",
     "output_type": "stream",
     "text": [
      "/Users/apo/Documents/repos/MLSys-NYU-2023/weeks/11/.venv/lib/python3.11/site-packages/tqdm/auto.py:21: TqdmWarning: IProgress not found. Please update jupyter and ipywidgets. See https://ipywidgets.readthedocs.io/en/stable/user_install.html\n",
      "  from .autonotebook import tqdm as notebook_tqdm\n"
     ]
    },
    {
     "name": "stdout",
     "output_type": "stream",
     "text": [
      "2264 cleaned sentences from finance dataset\n",
      "\n"
     ]
    },
    {
     "data": {
      "text/plain": [
       "[['according to gran  the company has no plans to move all production to russia  although that is where the company is growing ',\n",
       "  1],\n",
       " ['for the last quarter of 2010  componenta s net sales doubled to eur131m from eur76m for the same period a year earlier  while it moved to a zero pretax profit from a pretax loss of eur7m ',\n",
       "  2]]"
      ]
     },
     "execution_count": 4,
     "metadata": {},
     "output_type": "execute_result"
    }
   ],
   "source": [
    "finance_dataset = get_finance_sentences()\n",
    "# print out the first items in the dataset, to check the format\n",
    "finance_dataset[:2]"
   ]
  },
  {
   "cell_type": "code",
   "execution_count": 5,
   "id": "68ed414d",
   "metadata": {},
   "outputs": [],
   "source": [
    "# get sentences without label for vectorizer part\n",
    "finance_dataset_sentences = [_[0] for _ in finance_dataset]"
   ]
  },
  {
   "cell_type": "markdown",
   "id": "japanese-season",
   "metadata": {},
   "source": [
    "## Introducing count and tf-idf vectorizer"
   ]
  },
  {
   "cell_type": "markdown",
   "id": "internal-seller",
   "metadata": {},
   "source": [
    "_Computers do NOT understand words, so the first thing to do is to map the sentences found in the dataset to vectors of numbers._\n",
    "\n",
    "The oldest trick for manipulating text is the so-called \"vector space model\" (still very much in Information Retrieval), which is simply the idea that you can map documents to vectors and use \"geometric notions\" to compute interesting metrics, such as semantic similarity. The oldest mapping between words and vectors is a simple count transformation:\n",
    "\n",
    "D1: 'The bill is passed.'\n",
    "D2: 'Jesse proposed the bill.'\n",
    "\n",
    "D1: The=1, bill=1, is=1, passed=1, Jesse=0, proposed=0\n",
    "D2: The=1, bill=1, is=0, passed=0, Jesse=1, proposed=1\n",
    "\n",
    "A more sophisticated version is TF-IDF, which is the foundation of most search engines (SOLR, Elastic etc.): vectors are not counts, but they weights, as we discussed in class. \n",
    "\n",
    "Let's see the difference with some Python examples."
   ]
  },
  {
   "cell_type": "code",
   "execution_count": 6,
   "id": "institutional-channel",
   "metadata": {},
   "outputs": [
    {
     "name": "stdout",
     "output_type": "stream",
     "text": [
      "Count Vectorizer\n",
      "\n",
      "      2010  according  all  although  company  componenta  doubled  earlier  \\\n",
      "Doc0     0          1    1         1        2           0        0        0   \n",
      "Doc1     1          0    0         0        0           1        1        1   \n",
      "\n",
      "      eur131m  eur76m  ...  russia  sales  same  that  the  to  where  while  \\\n",
      "Doc0        0       0  ...       1      0     0     1    2   3      1      0   \n",
      "Doc1        1       1  ...       0      1     1     0    2   2      0      1   \n",
      "\n",
      "      year  zero  \n",
      "Doc0     0     0  \n",
      "Doc1     1     1  \n",
      "\n",
      "[2 rows x 41 columns]\n",
      "\n",
      "TD-IDF Vectorizer\n",
      "\n",
      "          2010  according       all  although   company  componenta   doubled  \\\n",
      "Doc0  0.000000   0.190412  0.190412  0.190412  0.380823    0.000000  0.000000   \n",
      "Doc1  0.158015   0.000000  0.000000  0.000000  0.000000    0.158015  0.158015   \n",
      "\n",
      "       earlier   eur131m    eur76m  ...    russia     sales      same  \\\n",
      "Doc0  0.000000  0.000000  0.000000  ...  0.190412  0.000000  0.000000   \n",
      "Doc1  0.158015  0.158015  0.158015  ...  0.000000  0.158015  0.158015   \n",
      "\n",
      "          that       the        to     where     while      year      zero  \n",
      "Doc0  0.190412  0.270959  0.406438  0.190412  0.000000  0.000000  0.000000  \n",
      "Doc1  0.000000  0.224858  0.224858  0.000000  0.158015  0.158015  0.158015  \n",
      "\n",
      "[2 rows x 41 columns]\n"
     ]
    }
   ],
   "source": [
    "# difference between count and tf-idf vectors\n",
    "from sklearn.feature_extraction.text import TfidfVectorizer,CountVectorizer\n",
    "# example docs\n",
    "docs = finance_dataset_sentences[:2]\n",
    "# instantiate the vectorizer object\n",
    "countvectorizer = CountVectorizer(analyzer='word')\n",
    "tfidfvectorizer = TfidfVectorizer(analyzer='word')\n",
    "# convert the documents into a matrix\n",
    "count_wm = countvectorizer.fit_transform(docs)\n",
    "tfidf_wm = tfidfvectorizer.fit_transform(docs)\n",
    "# display the difference\n",
    "count_tokens = countvectorizer.get_feature_names_out()\n",
    "tfidf_tokens = tfidfvectorizer.get_feature_names_out()\n",
    "df_countvect = pd.DataFrame(data=count_wm.toarray(),\n",
    "                            index=['Doc{}'.format(_) for _ in range(len(docs))], \n",
    "                            columns=count_tokens)\n",
    "df_tfidfvect = pd.DataFrame(data=tfidf_wm.toarray(),\n",
    "                            index=['Doc{}'.format(_) for _ in range(len(docs))], \n",
    "                            columns=tfidf_tokens)\n",
    "print(\"Count Vectorizer\\n\")\n",
    "print(df_countvect)\n",
    "print(\"\\nTD-IDF Vectorizer\\n\")\n",
    "print(df_tfidfvect)"
   ]
  },
  {
   "cell_type": "markdown",
   "id": "directed-expert",
   "metadata": {},
   "source": [
    "* Important observation # 1: the size of the vector for each doc is proportional to vocabulary size.\n",
    "* Important observation # 2: the vectors are mostly empty (it is a \"sparse\" representation). As we shall see in future lectures, neural network produces \"dense\" representations."
   ]
  },
  {
   "cell_type": "code",
   "execution_count": 7,
   "id": "proved-emission",
   "metadata": {},
   "outputs": [
    {
     "name": "stdout",
     "output_type": "stream",
     "text": [
      "Count Vectorizer\n",
      "\n",
      "       000  04  08  10  100  100mn  1015  10270  1033  10507  ...  will  with  \\\n",
      "Doc0     0   0   0   0    0      0     0      0     0      0  ...     0     0   \n",
      "Doc1     0   0   0   0    0      0     0      0     0      0  ...     0     0   \n",
      "Doc2     0   0   0   0    0      0     0      0     0      0  ...     0     0   \n",
      "Doc3     0   0   0   0    0      0     0      0     0      0  ...     0     0   \n",
      "Doc4     0   0   0   0    0      0     0      0     0      0  ...     0     0   \n",
      "...    ...  ..  ..  ..  ...    ...   ...    ...   ...    ...  ...   ...   ...   \n",
      "Doc95    0   0   0   0    0      0     0      0     0      0  ...     0     0   \n",
      "Doc96    0   0   0   0    0      0     0      0     0      0  ...     0     0   \n",
      "Doc97    0   0   0   0    0      0     0      0     0      0  ...     0     0   \n",
      "Doc98    0   0   0   0    0      0     0      0     0      0  ...     0     0   \n",
      "Doc99    0   0   0   0    0      0     0      0     0      0  ...     0     0   \n",
      "\n",
      "       world  x20ac  year  yearearlier  yearonyear  yesterday  zero  àland  \n",
      "Doc0       0      0     0            0           0          0     0      0  \n",
      "Doc1       0      0     1            0           0          0     1      0  \n",
      "Doc2       0      0     0            0           0          0     0      0  \n",
      "Doc3       0      0     0            0           0          0     0      0  \n",
      "Doc4       0      0     0            0           0          0     0      0  \n",
      "...      ...    ...   ...          ...         ...        ...   ...    ...  \n",
      "Doc95      0      0     0            0           0          0     0      0  \n",
      "Doc96      0      0     0            0           0          0     0      0  \n",
      "Doc97      0      0     0            0           0          0     0      0  \n",
      "Doc98      0      0     0            0           0          0     0      0  \n",
      "Doc99      0      0     0            0           0          0     0      0  \n",
      "\n",
      "[100 rows x 651 columns]\n"
     ]
    }
   ],
   "source": [
    "# see how vector dimension changes with more docs\n",
    "docs = finance_dataset_sentences[:100]\n",
    "countvectorizer = CountVectorizer(analyzer='word')\n",
    "count_wm = countvectorizer.fit_transform(docs)\n",
    "count_tokens = countvectorizer.get_feature_names_out()\n",
    "df_countvect = pd.DataFrame(data=count_wm.toarray(), \n",
    "                            index=['Doc{}'.format(_) for _ in range(len(docs))], \n",
    "                            columns=count_tokens)\n",
    "print(\"Count Vectorizer\\n\")\n",
    "print(df_countvect)"
   ]
  },
  {
   "cell_type": "markdown",
   "id": "30c9b527",
   "metadata": {},
   "source": [
    "If documents are points in a |V| dimensional space, their similarity is given by the angle between them: we show how to compute similarity with cosine first, and then wrap it up in a function:"
   ]
  },
  {
   "cell_type": "code",
   "execution_count": 8,
   "id": "caroline-machinery",
   "metadata": {},
   "outputs": [
    {
     "data": {
      "text/plain": [
       "array([1.        , 0.11464047, 0.11429394, 0.08137724, 0.        ,\n",
       "       0.11464047, 1.        , 0.19580002, 0.20496747, 0.1271767 ,\n",
       "       0.11429394, 0.19580002, 1.        , 0.41496965, 0.36717405,\n",
       "       0.08137724, 0.20496747, 0.41496965, 1.        , 0.57810913,\n",
       "       0.        , 0.1271767 , 0.36717405, 0.57810913, 1.        ])"
      ]
     },
     "execution_count": 8,
     "metadata": {},
     "output_type": "execute_result"
    }
   ],
   "source": [
    "# calculate similarity using cosine similarity\n",
    "from sklearn.metrics.pairwise import linear_kernel\n",
    "docs = finance_dataset_sentences[:5]\n",
    "tfidfvectorizer = TfidfVectorizer(analyzer='word')\n",
    "tfidf_wm = tfidfvectorizer.fit_transform(docs)\n",
    "cosine_similarities = linear_kernel(tfidf_wm, tfidf_wm).flatten()\n",
    "# print out for debug - the diagonal is 1 as all documents are perfectly\n",
    "# similar to themselves\n",
    "cosine_similarities"
   ]
  },
  {
   "cell_type": "code",
   "execution_count": 9,
   "id": "cutting-designer",
   "metadata": {},
   "outputs": [],
   "source": [
    "# wrap up similarity calculation in a function\n",
    "def most_similar_docs_tf_idf(target_doc_index, docs, tfidf, top_k=3, debug=False):\n",
    "    sims = linear_kernel(tfidf[target_doc_index:target_doc_index + 1], tfidf).flatten()\n",
    "    indices = sims.argsort()[:-top_k-2:-1]\n",
    "    \n",
    "    if debug:\n",
    "        print(indices)\n",
    "    \n",
    "    return [docs[i] for i in indices]"
   ]
  },
  {
   "cell_type": "code",
   "execution_count": 10,
   "id": "quarterly-yield",
   "metadata": {},
   "outputs": [
    {
     "name": "stdout",
     "output_type": "stream",
     "text": [
      "\n",
      "======== Most similar docs to: according to gran  the company has no plans to move all production to russia  although that is where the company is growing \n",
      "\n",
      "['for the last quarter of 2010  componenta s net sales doubled to eur131m from eur76m for the same period a year earlier  while it moved to a zero pretax profit from a pretax loss of eur7m ', 'in the third quarter of 2010  net sales increased by 52  to eur 2055 mn  and operating profit by 349  to eur 235 mn ', 'operating profit rose to eur 131 mn from eur 87 mn in the corresponding period in 2007 representing 77  of net sales ']\n",
      "\n",
      "======== Most similar docs to: for the last quarter of 2010  componenta s net sales doubled to eur131m from eur76m for the same period a year earlier  while it moved to a zero pretax profit from a pretax loss of eur7m \n",
      "\n",
      "['operating profit rose to eur 131 mn from eur 87 mn in the corresponding period in 2007 representing 77  of net sales ', 'in the third quarter of 2010  net sales increased by 52  to eur 2055 mn  and operating profit by 349  to eur 235 mn ', 'operating profit totalled eur 211 mn  up from eur 186 mn in 2007  representing 97  of net sales ']\n",
      "\n",
      "======== Most similar docs to: in the third quarter of 2010  net sales increased by 52  to eur 2055 mn  and operating profit by 349  to eur 235 mn \n",
      "\n",
      "['operating profit rose to eur 131 mn from eur 87 mn in the corresponding period in 2007 representing 77  of net sales ', 'operating profit totalled eur 211 mn  up from eur 186 mn in 2007  representing 97  of net sales ', 'for the last quarter of 2010  componenta s net sales doubled to eur131m from eur76m for the same period a year earlier  while it moved to a zero pretax profit from a pretax loss of eur7m ']\n",
      "\n",
      "======== Most similar docs to: operating profit rose to eur 131 mn from eur 87 mn in the corresponding period in 2007 representing 77  of net sales \n",
      "\n",
      "['operating profit totalled eur 211 mn  up from eur 186 mn in 2007  representing 97  of net sales ', 'in the third quarter of 2010  net sales increased by 52  to eur 2055 mn  and operating profit by 349  to eur 235 mn ', 'for the last quarter of 2010  componenta s net sales doubled to eur131m from eur76m for the same period a year earlier  while it moved to a zero pretax profit from a pretax loss of eur7m ']\n",
      "\n",
      "======== Most similar docs to: operating profit totalled eur 211 mn  up from eur 186 mn in 2007  representing 97  of net sales \n",
      "\n",
      "['operating profit rose to eur 131 mn from eur 87 mn in the corresponding period in 2007 representing 77  of net sales ', 'in the third quarter of 2010  net sales increased by 52  to eur 2055 mn  and operating profit by 349  to eur 235 mn ', 'for the last quarter of 2010  componenta s net sales doubled to eur131m from eur76m for the same period a year earlier  while it moved to a zero pretax profit from a pretax loss of eur7m ']\n"
     ]
    }
   ],
   "source": [
    "for idx, d in enumerate(docs):\n",
    "    print(\"\\n======== Most similar docs to: {}\\n\".format(d))\n",
    "    print(most_similar_docs_tf_idf(idx, docs, tfidf_wm)[1:])"
   ]
  },
  {
   "cell_type": "markdown",
   "id": "front-scholarship",
   "metadata": {},
   "source": [
    "_Let's run on all the dataset now!!!_"
   ]
  },
  {
   "cell_type": "code",
   "execution_count": 11,
   "id": "alternate-speed",
   "metadata": {},
   "outputs": [],
   "source": [
    "all_text_data = finance_dataset_sentences"
   ]
  },
  {
   "cell_type": "markdown",
   "id": "edd033d2",
   "metadata": {},
   "source": [
    "* Important observation: the scikit vectorizer comes with MANY options (https://scikit-learn.org/stable/modules/generated/sklearn.feature_extraction.text.TfidfVectorizer.html). As we discussed in class, there are non-equivalent ways of cleaning text, tokenize it, etc. The removal of stop words, or how frequent a word should be to be included in the model, or what ngram size to use, are governed by parameters that can be tweaked."
   ]
  },
  {
   "cell_type": "code",
   "execution_count": 12,
   "id": "angry-girlfriend",
   "metadata": {},
   "outputs": [],
   "source": [
    "finance_tfidfvectorizer = TfidfVectorizer(analyzer='word', stop_words='english')\n",
    "finance_tfidf_wm = tfidfvectorizer.fit_transform(all_text_data)"
   ]
  },
  {
   "cell_type": "markdown",
   "id": "f56de759",
   "metadata": {},
   "source": [
    "We pick a random sentence from our data, and compute the most similar sentences according to TF-IDF..."
   ]
  },
  {
   "cell_type": "code",
   "execution_count": 13,
   "id": "current-basket",
   "metadata": {},
   "outputs": [
    {
     "name": "stdout",
     "output_type": "stream",
     "text": [
      "\n",
      "======== Most similar docs to:\n",
      " 1263-includes company and brand share data by category  as well as distribution channel data \n",
      "\n",
      "\n",
      "[1263 1815  680  267]\n",
      "the report contains category level company and brand share as well as distribution share information for 2007 and 2008  \n",
      "\n",
      "product coverage  baked goods  biscuits  breakfast cereals data coverage  market sizes historic and forecasts  company shares  brand shares and distribution data  \n",
      "\n",
      "a data processing unit collects the data  calculates rvr values and provides the data to users via various interfaces  \n",
      "\n"
     ]
    }
   ],
   "source": [
    "from random import randint\n",
    "rnd_idx = randint(0, len(all_text_data))\n",
    "print(\"\\n======== Most similar docs to:\\n {}-{}\\n\\n\".format(rnd_idx, all_text_data[rnd_idx]))\n",
    "top_docs = most_similar_docs_tf_idf(rnd_idx, all_text_data, finance_tfidf_wm, debug=True)\n",
    "for t in top_docs[1:]:\n",
    "    print(t, '\\n')"
   ]
  },
  {
   "cell_type": "markdown",
   "id": "07a093e5",
   "metadata": {},
   "source": [
    "## Applied Vectorization: Text Classification"
   ]
  },
  {
   "cell_type": "markdown",
   "id": "435f3ef0",
   "metadata": {},
   "source": [
    "Once we have vectors, we can proceed to build a classifier pretty much exactly like you did for other supervised learning projects in the class."
   ]
  },
  {
   "cell_type": "code",
   "execution_count": 14,
   "id": "8c4ae758",
   "metadata": {},
   "outputs": [
    {
     "name": "stdout",
     "output_type": "stream",
     "text": [
      "All labels are: {0, 1, 2}\n"
     ]
    }
   ],
   "source": [
    "from sklearn.model_selection import train_test_split\n",
    "\n",
    "finance_dataset_text = [_[0] for _ in finance_dataset]\n",
    "finance_dataset_label = [_[1] for _ in finance_dataset]\n",
    "all_labels = set(finance_dataset_label)\n",
    "print(\"All labels are: {}\".format(all_labels))\n",
    "X_train, X_test, y_train, y_test = train_test_split(finance_dataset_text, \n",
    "                                                    finance_dataset_label, \n",
    "                                                    test_size=0.1, \n",
    "                                                    random_state=42)"
   ]
  },
  {
   "cell_type": "code",
   "execution_count": 15,
   "id": "460cbc91",
   "metadata": {},
   "outputs": [
    {
     "name": "stdout",
     "output_type": "stream",
     "text": [
      "2037 227 ['the train is expected to cross the russian territory in 9 days  reaching the vostochny port ', 'the policy was also aimed at making the companies more profitable and competitive ', 'no financial details were disclosed '] [1, 2, 1]\n"
     ]
    }
   ],
   "source": [
    "print(len(X_train), len(X_test), X_train[:3], y_train[:3])"
   ]
  },
  {
   "cell_type": "code",
   "execution_count": 16,
   "id": "a1bf32ef",
   "metadata": {},
   "outputs": [
    {
     "data": {
      "text/plain": [
       "(2037, 6065)"
      ]
     },
     "execution_count": 16,
     "metadata": {},
     "output_type": "execute_result"
    }
   ],
   "source": [
    "final_tfidfvectorizer = TfidfVectorizer(analyzer='word', stop_words='english')\n",
    "final_tfidf_train = final_tfidfvectorizer.fit_transform(X_train)\n",
    "final_tfidf_train.shape"
   ]
  },
  {
   "cell_type": "code",
   "execution_count": 17,
   "id": "4a6f924c",
   "metadata": {},
   "outputs": [],
   "source": [
    "X_test_transformed = final_tfidfvectorizer.transform(X_test)"
   ]
  },
  {
   "cell_type": "markdown",
   "id": "9bd44500",
   "metadata": {},
   "source": [
    "#### Bonus: Chi-Square selection\n",
    "\n",
    "If the model is too big (remember: the model grows with vocabulary size!), we can check which words are most predictive of the target label, and trim the model accordingly (i.e. we are doing feature selection on our text data - see for example https://scikit-learn.org/stable/modules/generated/sklearn.feature_selection.chi2.html)"
   ]
  },
  {
   "cell_type": "code",
   "execution_count": 18,
   "id": "292f951b",
   "metadata": {},
   "outputs": [
    {
     "name": "stdout",
     "output_type": "stream",
     "text": [
      "6065 ['àmñl' 'ál' 'äñnekoski']\n"
     ]
    }
   ],
   "source": [
    "feature_names = final_tfidfvectorizer.get_feature_names_out()\n",
    "print(len(feature_names), feature_names[-3:])"
   ]
  },
  {
   "cell_type": "code",
   "execution_count": 19,
   "id": "18ff5c3c",
   "metadata": {},
   "outputs": [
    {
     "name": "stdout",
     "output_type": "stream",
     "text": [
      "25 ['2008' 'compared' 'corresponding' 'decreased' 'dropped' 'eur' 'fell'\n",
      " 'grew' 'half' 'increase']\n"
     ]
    }
   ],
   "source": [
    "from sklearn.feature_selection import SelectKBest, chi2\n",
    "\n",
    "ch2 = SelectKBest(chi2, k=25)\n",
    "X_chi_train = ch2.fit_transform(final_tfidf_train, y_train)\n",
    "X_chi_test = ch2.transform(X_test_transformed)\n",
    "new_feature_names =  np.array(feature_names)[ch2.get_support()]\n",
    "print(len(new_feature_names), new_feature_names[:10])"
   ]
  },
  {
   "cell_type": "markdown",
   "id": "967add6b",
   "metadata": {},
   "source": [
    "_We now instantiate a classifier, train it and then predicting unseen test cases as usual._"
   ]
  },
  {
   "cell_type": "code",
   "execution_count": 20,
   "id": "424e2b3b",
   "metadata": {},
   "outputs": [],
   "source": [
    "from sklearn.naive_bayes import MultinomialNB\n",
    "# from https://scikit-learn.org/stable/modules/generated/sklearn.naive_bayes.MultinomialNB.html#sklearn.naive_bayes.MultinomialNB\n",
    "\n",
    "model = MultinomialNB()\n",
    "# train and test the classifier\n",
    "model.fit(final_tfidf_train, y_train)\n",
    "predicted = model.predict(X_test_transformed)\n",
    "predicted_prob = model.predict_proba(X_test_transformed)"
   ]
  },
  {
   "cell_type": "code",
   "execution_count": 21,
   "id": "5e64b8a4",
   "metadata": {},
   "outputs": [
    {
     "name": "stdout",
     "output_type": "stream",
     "text": [
      "[1 1 2] [[0.04644567 0.81626586 0.13728847]\n",
      " [0.11744389 0.71779367 0.16476244]\n",
      " [0.21494976 0.17169911 0.61335113]]\n"
     ]
    }
   ],
   "source": [
    "# debug\n",
    "print(predicted[:3], predicted_prob[:3])"
   ]
  },
  {
   "cell_type": "markdown",
   "id": "d7bb489d",
   "metadata": {},
   "source": [
    "* Important observation: thanks to scikit great API, we can re-run the code below swapping in and out different classifiers, and compare their performance easily - for example, we could try a LinearSVC (https://scikit-learn.org/stable/modules/generated/sklearn.svm.LinearSVC.html#sklearn.svm.LinearSVC)!"
   ]
  },
  {
   "cell_type": "code",
   "execution_count": 22,
   "id": "electoral-retro",
   "metadata": {},
   "outputs": [],
   "source": [
    "from sklearn.metrics import confusion_matrix, classification_report\n",
    "\n",
    "def calculate_confusion_matrix_and_report(y_predicted, y_golden, with_plot=True):\n",
    "    # calculate confusion matrix: \n",
    "    cm = confusion_matrix(y_golden, y_predicted)\n",
    "    # build a readable report;\n",
    "    # https://scikit-learn.org/stable/modules/model_evaluation.html#classification-report\n",
    "    print('\\nClassification Report')\n",
    "    print(classification_report(y_golden, y_predicted))\n",
    "    # plot the matrix\n",
    "    if with_plot:\n",
    "        plot_confusion_matrix(cm)\n",
    "                                          \n",
    "    return\n",
    "                                          \n",
    "def plot_confusion_matrix(c_matrix):\n",
    "    plt.imshow(c_matrix, cmap=plt.cm.Blues)\n",
    "    plt.xlabel(\"Predicted labels\")\n",
    "    plt.ylabel(\"True labels\")\n",
    "    plt.xticks([], [])\n",
    "    plt.yticks([], [])\n",
    "    plt.title(\"Confusion matrix\")\n",
    "    plt.colorbar()\n",
    "    plt.show()\n",
    "    \n",
    "    return"
   ]
  },
  {
   "cell_type": "markdown",
   "id": "9022af0a",
   "metadata": {},
   "source": [
    "As usual, we first try to understand the model behavior on unseen data through some rough quantitative measures and visualization. "
   ]
  },
  {
   "cell_type": "code",
   "execution_count": 23,
   "id": "mathematical-northern",
   "metadata": {},
   "outputs": [
    {
     "name": "stdout",
     "output_type": "stream",
     "text": [
      "Total of # 227 test cases\n",
      "\n",
      "Classification Report\n",
      "              precision    recall  f1-score   support\n",
      "\n",
      "           0       1.00      0.03      0.06        30\n",
      "           1       0.84      0.95      0.89       145\n",
      "           2       0.61      0.71      0.65        52\n",
      "\n",
      "    accuracy                           0.78       227\n",
      "   macro avg       0.81      0.57      0.54       227\n",
      "weighted avg       0.81      0.78      0.73       227\n",
      "\n"
     ]
    },
    {
     "name": "stderr",
     "output_type": "stream",
     "text": [
      "/Users/apo/Documents/repos/MLSys-NYU-2023/weeks/11/.venv/lib/python3.11/site-packages/IPython/core/pylabtools.py:152: MatplotlibDeprecationWarning: savefig() got unexpected keyword argument \"orientation\" which is no longer supported as of 3.3 and will become an error two minor releases later\n",
      "  fig.canvas.print_figure(bytes_io, **kw)\n",
      "/Users/apo/Documents/repos/MLSys-NYU-2023/weeks/11/.venv/lib/python3.11/site-packages/IPython/core/pylabtools.py:152: MatplotlibDeprecationWarning: savefig() got unexpected keyword argument \"facecolor\" which is no longer supported as of 3.3 and will become an error two minor releases later\n",
      "  fig.canvas.print_figure(bytes_io, **kw)\n",
      "/Users/apo/Documents/repos/MLSys-NYU-2023/weeks/11/.venv/lib/python3.11/site-packages/IPython/core/pylabtools.py:152: MatplotlibDeprecationWarning: savefig() got unexpected keyword argument \"edgecolor\" which is no longer supported as of 3.3 and will become an error two minor releases later\n",
      "  fig.canvas.print_figure(bytes_io, **kw)\n",
      "/Users/apo/Documents/repos/MLSys-NYU-2023/weeks/11/.venv/lib/python3.11/site-packages/IPython/core/pylabtools.py:152: MatplotlibDeprecationWarning: savefig() got unexpected keyword argument \"bbox_inches_restore\" which is no longer supported as of 3.3 and will become an error two minor releases later\n",
      "  fig.canvas.print_figure(bytes_io, **kw)\n"
     ]
    },
    {
     "data": {
      "image/png": "[encoded data removed]",
      "text/plain": [
       "<Figure size 640x480 with 2 Axes>"
      ]
     },
     "metadata": {},
     "output_type": "display_data"
    }
   ],
   "source": [
    "print(\"Total of # {} test cases\".format(len(y_test)))\n",
    "calculate_confusion_matrix_and_report(predicted, y_test)"
   ]
  }
 ],
 "metadata": {
  "kernelspec": {
   "display_name": "Python 3 (ipykernel)",
   "language": "python",
   "name": "python3"
  },
  "language_info": {
   "codemirror_mode": {
    "name": "ipython",
    "version": 3
   },
   "file_extension": ".py",
   "mimetype": "text/x-python",
   "name": "python",
   "nbconvert_exporter": "python",
   "pygments_lexer": "ipython3",
   "version": "3.11.5"
  }
 },
 "nbformat": 4,
 "nbformat_minor": 5
}
