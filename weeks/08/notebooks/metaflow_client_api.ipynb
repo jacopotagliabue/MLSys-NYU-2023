{
 "cells": [
  {
   "cell_type": "markdown",
   "id": "43d08019",
   "metadata": {},
   "source": [
    "# Explore artifacts through the Client API\n",
    "This notebook shows how to easily retrieve the artifacts produced by a Flow run (model, dataset, etc.), and provides some convenient functions to display and explore the original dataset and embedding space.\n"
   ]
  },
  {
   "cell_type": "markdown",
   "id": "361d0438",
   "metadata": {},
   "source": [
    "## Imports and global vars\n",
    "\n",
    "First, let's make sure we are using the virtual environment with the project dependencies..."
   ]
  },
  {
   "cell_type": "code",
   "execution_count": 1,
   "id": "c28c7729",
   "metadata": {},
   "outputs": [
    {
     "data": {
      "text/plain": [
       "'/Users/apo/Documents/repos/MLSys-NYU-2023/weeks/08/.venv/bin/python'"
      ]
     },
     "execution_count": 1,
     "metadata": {},
     "output_type": "execute_result"
    }
   ],
   "source": [
    "import sys\n",
    "sys.executable"
   ]
  },
  {
   "cell_type": "code",
   "execution_count": 2,
   "id": "b5f6d65c",
   "metadata": {},
   "outputs": [],
   "source": [
    "from metaflow import Flow\n",
    "from metaflow import get_metadata, metadata\n",
    "import numpy as np\n",
    "import matplotlib.pyplot as plt"
   ]
  },
  {
   "cell_type": "markdown",
   "id": "2d441003",
   "metadata": {},
   "source": [
    "Define some globals and make sure Metaflow can find the metadata"
   ]
  },
  {
   "cell_type": "code",
   "execution_count": 3,
   "id": "b14916e4",
   "metadata": {},
   "outputs": [
    {
     "name": "stdout",
     "output_type": "stream",
     "text": [
      "local@../src\n"
     ]
    }
   ],
   "source": [
    "FLOW_NAME = 'SampleRegressionFlow' # name of the class\n",
    "# Set the metadata provider as the src folder in the project,\n",
    "# which contains /.metaflow\n",
    "metadata('../src')\n",
    "# Fetch currently configured metadata provider - check it's local!\n",
    "print(get_metadata())"
   ]
  },
  {
   "cell_type": "markdown",
   "id": "62df1acc",
   "metadata": {},
   "source": [
    "## Get artifacts from latest successful run"
   ]
  },
  {
   "cell_type": "code",
   "execution_count": 4,
   "id": "9449c04f",
   "metadata": {},
   "outputs": [],
   "source": [
    "def get_latest_successful_run(flow_name: str):\n",
    "    \"Gets the latest successfull run.\"\n",
    "    for r in Flow(flow_name).runs():\n",
    "        if r.successful: \n",
    "            return r"
   ]
  },
  {
   "cell_type": "code",
   "execution_count": 5,
   "id": "b84a3201",
   "metadata": {},
   "outputs": [],
   "source": [
    "latest_run = get_latest_successful_run(FLOW_NAME)\n",
    "latest_model = latest_run.data.model\n",
    "latest_dataset = latest_run.data.dataset"
   ]
  },
  {
   "cell_type": "markdown",
   "id": "bd281437",
   "metadata": {},
   "source": [
    "Verify we can inspect the dataset..."
   ]
  },
  {
   "cell_type": "code",
   "execution_count": 6,
   "id": "d9a7ee1c",
   "metadata": {},
   "outputs": [
    {
     "data": {
      "text/plain": [
       "[[-1.7587394864231143, -32.770386047959725],\n",
       " [1.0318445394686349, 3.5045910648442344],\n",
       " [-0.48760622407249354, -17.930307666159294],\n",
       " [0.18645431476942764, -3.990201236512462],\n",
       " [0.725766623898692, 13.105264342363048],\n",
       " [0.9725544496267299, 33.7844061138283],\n",
       " [0.6453759495851475, -6.568374494070948],\n",
       " [0.6818914896263114, 30.33437324581322],\n",
       " [-1.4301413779606327, -16.151595300473275],\n",
       " [1.066674689589154, 6.883488363969851]]"
      ]
     },
     "execution_count": 6,
     "metadata": {},
     "output_type": "execute_result"
    }
   ],
   "source": [
    "latest_dataset[:10]"
   ]
  },
  {
   "cell_type": "markdown",
   "id": "669c8539",
   "metadata": {},
   "source": [
    "... and the model!"
   ]
  },
  {
   "cell_type": "code",
   "execution_count": 7,
   "id": "7ae16fa7",
   "metadata": {},
   "outputs": [
    {
     "data": {
      "text/plain": [
       "array([167.07281369])"
      ]
     },
     "execution_count": 7,
     "metadata": {},
     "output_type": "execute_result"
    }
   ],
   "source": [
    "latest_model.predict([[10]])"
   ]
  },
  {
   "cell_type": "code",
   "execution_count": null,
   "id": "1f6f8ff9",
   "metadata": {},
   "outputs": [],
   "source": []
  }
 ],
 "metadata": {
  "kernelspec": {
   "display_name": "Python 3 (ipykernel)",
   "language": "python",
   "name": "python3"
  },
  "language_info": {
   "codemirror_mode": {
    "name": "ipython",
    "version": 3
   },
   "file_extension": ".py",
   "mimetype": "text/x-python",
   "name": "python",
   "nbconvert_exporter": "python",
   "pygments_lexer": "ipython3",
   "version": "3.11.5"
  }
 },
 "nbformat": 4,
 "nbformat_minor": 5
}
