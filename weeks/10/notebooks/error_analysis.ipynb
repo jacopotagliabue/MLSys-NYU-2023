{
 "cells": [
  {
   "cell_type": "markdown",
   "id": "underlying-payroll",
   "metadata": {},
   "source": [
    "# Error analysis and (better) testing"
   ]
  },
  {
   "cell_type": "markdown",
   "id": "98fc4063",
   "metadata": {},
   "source": [
    "We train a text classification model on financial news, and then use the model to understand some best practices in error analysis and testing.\n",
    "\n",
    "You are encouraged to play around with the code and modify / re-built parts of it as you fit: there is NO substitute for \"tinkering with code\" to understand how all the concepts fit together (corollary: all this code is written for pedagogical purposes, so some functions are re-used from previous lectures to provide a self-sufficient script)."
   ]
  },
  {
   "cell_type": "markdown",
   "id": "0d719be9",
   "metadata": {},
   "source": [
    "_First, let's make sure we are running from the virtual env_"
   ]
  },
  {
   "cell_type": "code",
   "execution_count": 1,
   "id": "7095bc3b",
   "metadata": {},
   "outputs": [
    {
     "data": {
      "text/plain": [
       "'/Users/apo/Documents/repos/MLSys-NYU-2023/weeks/10/.venv/bin/python'"
      ]
     },
     "execution_count": 1,
     "metadata": {},
     "output_type": "execute_result"
    }
   ],
   "source": [
    "import sys\n",
    "sys.executable"
   ]
  },
  {
   "cell_type": "code",
   "execution_count": 2,
   "id": "diagnostic-buying",
   "metadata": {},
   "outputs": [],
   "source": [
    "# some global import\n",
    "# we import specific libraries in due time\n",
    "import json\n",
    "import glob\n",
    "import os\n",
    "import numpy as np\n",
    "import pandas as pd\n",
    "from collections import Counter\n",
    "from matplotlib import pyplot as plt\n",
    "from random import choice"
   ]
  },
  {
   "cell_type": "code",
   "execution_count": 3,
   "id": "identical-disability",
   "metadata": {},
   "outputs": [],
   "source": [
    "%matplotlib inline"
   ]
  },
  {
   "cell_type": "markdown",
   "id": "0ebe1e72",
   "metadata": {},
   "source": [
    "## Data loading"
   ]
  },
  {
   "cell_type": "code",
   "execution_count": 4,
   "id": "c286cfaf",
   "metadata": {},
   "outputs": [],
   "source": [
    "import string\n",
    "\n",
    "# some utils function\n",
    "def get_finance_sentiment_dataset(split: str='sentences_allagree'):\n",
    "    # load financial dataset from HF\n",
    "    from datasets import load_dataset\n",
    "    # https://huggingface.co/datasets/financial_phrasebank\n",
    "    # by default, load just sentences for which all annotators agree\n",
    "    dataset = load_dataset(\"financial_phrasebank\", split)\n",
    "    \n",
    "    return dataset['train']\n",
    "\n",
    "\n",
    "def get_finance_sentences():\n",
    "    dataset = get_finance_sentiment_dataset()\n",
    "    cleaned_dataset = [[pre_process_sentence(_['sentence']), _['label']] for _ in dataset]\n",
    "    # debug \n",
    "    print(\"{} cleaned sentences from finance dataset\\n\".format(len(cleaned_dataset)))\n",
    "    \n",
    "    return cleaned_dataset\n",
    "\n",
    "\n",
    "def pre_process_sentence(sentence: str):\n",
    "    # this choices are VERY important. Here, we take a simplified \n",
    "    # view, remove the punctuations and just lower case everything\n",
    "    lower_sentence = sentence.lower()\n",
    "    # remove punctuation\n",
    "    # nice suggestion from https://stackoverflow.com/questions/265960/best-way-to-strip-punctuation-from-a-string\n",
    "    # if we change the exclude set, we can control what to exclude\n",
    "    exclude = set(string.punctuation)\n",
    "    return ''.join(ch for ch in lower_sentence if ch not in exclude)"
   ]
  },
  {
   "cell_type": "code",
   "execution_count": 5,
   "id": "44bcd289",
   "metadata": {},
   "outputs": [
    {
     "name": "stderr",
     "output_type": "stream",
     "text": [
      "/Users/apo/Documents/repos/MLSys-NYU-2023/weeks/10/.venv/lib/python3.11/site-packages/tqdm/auto.py:21: TqdmWarning: IProgress not found. Please update jupyter and ipywidgets. See https://ipywidgets.readthedocs.io/en/stable/user_install.html\n",
      "  from .autonotebook import tqdm as notebook_tqdm\n",
      "Downloading builder script: 100%|████████████████████████████████| 6.04k/6.04k [00:00<00:00, 9.12MB/s]\n",
      "Downloading metadata: 100%|██████████████████████████████████████| 13.7k/13.7k [00:00<00:00, 10.4MB/s]\n",
      "Downloading readme: 100%|████████████████████████████████████████| 8.88k/8.88k [00:00<00:00, 7.25MB/s]\n",
      "Downloading data: 100%|████████████████████████████████████████████| 682k/682k [00:00<00:00, 7.80MB/s]\n",
      "Generating train split: 100%|███████████████████████████| 2264/2264 [00:00<00:00, 75940.50 examples/s]"
     ]
    },
    {
     "name": "stdout",
     "output_type": "stream",
     "text": [
      "2264 cleaned sentences from finance dataset\n",
      "\n"
     ]
    },
    {
     "name": "stderr",
     "output_type": "stream",
     "text": [
      "\n"
     ]
    },
    {
     "data": {
      "text/plain": [
       "['according to gran  the company has no plans to move all production to russia  although that is where the company is growing ',\n",
       " 1]"
      ]
     },
     "execution_count": 5,
     "metadata": {},
     "output_type": "execute_result"
    }
   ],
   "source": [
    "finance_dataset = get_finance_sentences()\n",
    "# print out the first item in the dataset, to check the format\n",
    "finance_dataset[0]"
   ]
  },
  {
   "cell_type": "markdown",
   "id": "810ab27a",
   "metadata": {},
   "source": [
    "## Model training\n",
    "\n",
    "Training a simple tf-idf classifier on text and return the model for analysis, prediction. More info about the model:\n",
    "\n",
    "https://scikit-learn.org/stable/modules/generated/sklearn.feature_extraction.text.TfidfVectorizer.html\n",
    "\n",
    "Some more details on NLP classification can be found for example in our 2021 course: https://github.com/jacopotagliabue/FREE_7773\n"
   ]
  },
  {
   "cell_type": "code",
   "execution_count": 6,
   "id": "756ed582",
   "metadata": {},
   "outputs": [
    {
     "name": "stdout",
     "output_type": "stream",
     "text": [
      "All labels are: {0, 1, 2}\n",
      "Total train examples 2037, test 2037\n",
      "['the train is expected to cross the russian territory in 9 days  reaching the vostochny port ', 'the policy was also aimed at making the companies more profitable and competitive '] [1, 2]\n"
     ]
    }
   ],
   "source": [
    "# first get the final dataset splits etc.\n",
    "from sklearn.model_selection import train_test_split\n",
    "\n",
    "finance_dataset_text = [_[0] for _ in finance_dataset]\n",
    "finance_dataset_label = [_[1] for _ in finance_dataset]\n",
    "all_labels = set(finance_dataset_label)\n",
    "print(\"All labels are: {}\".format(all_labels))\n",
    "X_train, X_test, y_train, y_test = train_test_split(finance_dataset_text, \n",
    "                                                    finance_dataset_label, \n",
    "                                                    test_size=0.1, \n",
    "                                                    random_state=42)\n",
    "print(\"Total train examples {}, test {}\".format(len(X_train), len(y_train)))\n",
    "# debug with examples\n",
    "print(X_train[:2], y_train[:2])"
   ]
  },
  {
   "cell_type": "markdown",
   "id": "4dee714e",
   "metadata": {},
   "source": [
    "*NOTE: LABELS ARE 0 NEG, 1 NEUTRAL AND 2 POSITIVE !*"
   ]
  },
  {
   "cell_type": "code",
   "execution_count": 7,
   "id": "7b5f5b22",
   "metadata": {},
   "outputs": [],
   "source": [
    "def train_model(tf_idf_x_train, y_train):\n",
    "    \"\"\"\n",
    "    Train a simple classifier over the text vectors.\n",
    "    Model from https://scikit-learn.org/stable/modules/generated/sklearn.naive_bayes.MultinomialNB.html\n",
    "    \"\"\"\n",
    "    from sklearn.naive_bayes import MultinomialNB\n",
    "    model = MultinomialNB()\n",
    "    model.fit(tf_idf_x_train, y_train)\n",
    "    \n",
    "    return model\n",
    "\n",
    "def get_trained_classifier(X_train, y_train):\n",
    "    \"\"\"\n",
    "    Encapsulate the training here, as we really don't care about training details:\n",
    "    the model is just useful to discuss testing strategies!\n",
    "    \"\"\"\n",
    "    \n",
    "    # map text to numerical vectors using TF-IDF and some sensible defaults\n",
    "    from sklearn.feature_extraction.text import TfidfVectorizer\n",
    "    vectorizer = TfidfVectorizer(analyzer='word', stop_words='english')\n",
    "    tfidf_train = vectorizer.fit_transform(X_train)\n",
    "    # debug: what does this shape mean?\n",
    "    print(tfidf_train.shape)\n",
    "    # train the model\n",
    "    model = train_model(tfidf_train, y_train)\n",
    "        \n",
    "    # since we are treating of all this \n",
    "    return vectorizer, model"
   ]
  },
  {
   "cell_type": "code",
   "execution_count": 8,
   "id": "cc25a831",
   "metadata": {},
   "outputs": [
    {
     "name": "stdout",
     "output_type": "stream",
     "text": [
      "(2037, 6065)\n"
     ]
    }
   ],
   "source": [
    "tf_vectorizer, clf_model = get_trained_classifier(X_train, y_train)"
   ]
  },
  {
   "cell_type": "markdown",
   "id": "360936e4",
   "metadata": {},
   "source": [
    "## Evaluate the model\n",
    "\n",
    "How well are we doing?"
   ]
  },
  {
   "cell_type": "markdown",
   "id": "967add6b",
   "metadata": {},
   "source": [
    "First, we now instantiate a classifier, train it and then predicting unseen test cases as usual."
   ]
  },
  {
   "cell_type": "code",
   "execution_count": 9,
   "id": "424e2b3b",
   "metadata": {},
   "outputs": [
    {
     "name": "stdout",
     "output_type": "stream",
     "text": [
      "[1 1] [[0.04644567 0.81626586 0.13728847]\n",
      " [0.11744389 0.71779367 0.16476244]]\n"
     ]
    }
   ],
   "source": [
    "X_test_transformed = tf_vectorizer.transform(X_test)\n",
    "predicted = clf_model.predict(X_test_transformed)\n",
    "predicted_prob = clf_model.predict_proba(X_test_transformed)\n",
    "# debug output\n",
    "print(predicted[:2], predicted_prob[:2])"
   ]
  },
  {
   "cell_type": "markdown",
   "id": "5a3a6e4b",
   "metadata": {},
   "source": [
    "We start by using standard quantitative metrics to evaluate our model"
   ]
  },
  {
   "cell_type": "code",
   "execution_count": 10,
   "id": "electoral-retro",
   "metadata": {},
   "outputs": [],
   "source": [
    "from sklearn.metrics import confusion_matrix, classification_report\n",
    "\n",
    "def calculate_confusion_matrix_and_report(y_predicted, y_golden, with_plot=True):\n",
    "    # calculate confusion matrix: \n",
    "    cm = confusion_matrix(y_golden, y_predicted)\n",
    "    # build a readable report;\n",
    "    # https://scikit-learn.org/stable/modules/model_evaluation.html#classification-report\n",
    "    print('\\nClassification Report')\n",
    "    print(classification_report(y_golden, y_predicted))\n",
    "    # plot the matrix\n",
    "    if with_plot:\n",
    "        plot_confusion_matrix(cm)\n",
    "                                          \n",
    "    return\n",
    "                                          \n",
    "def plot_confusion_matrix(c_matrix):\n",
    "    plt.imshow(c_matrix, cmap=plt.cm.Blues)\n",
    "    plt.xlabel(\"Predicted labels\")\n",
    "    plt.ylabel(\"True labels\")\n",
    "    plt.xticks([], [])\n",
    "    plt.yticks([], [])\n",
    "    plt.title(\"Confusion matrix\")\n",
    "    plt.colorbar()\n",
    "    plt.show()\n",
    "    \n",
    "    return"
   ]
  },
  {
   "cell_type": "code",
   "execution_count": 11,
   "id": "mathematical-northern",
   "metadata": {},
   "outputs": [
    {
     "name": "stdout",
     "output_type": "stream",
     "text": [
      "Total of # 227 test cases\n",
      "\n",
      "Classification Report\n",
      "              precision    recall  f1-score   support\n",
      "\n",
      "           0       1.00      0.03      0.06        30\n",
      "           1       0.84      0.95      0.89       145\n",
      "           2       0.61      0.71      0.65        52\n",
      "\n",
      "    accuracy                           0.78       227\n",
      "   macro avg       0.81      0.57      0.54       227\n",
      "weighted avg       0.81      0.78      0.73       227\n",
      "\n"
     ]
    },
    {
     "name": "stderr",
     "output_type": "stream",
     "text": [
      "/Users/apo/Documents/repos/MLSys-NYU-2023/weeks/10/.venv/lib/python3.11/site-packages/IPython/core/pylabtools.py:152: MatplotlibDeprecationWarning: savefig() got unexpected keyword argument \"orientation\" which is no longer supported as of 3.3 and will become an error two minor releases later\n",
      "  fig.canvas.print_figure(bytes_io, **kw)\n",
      "/Users/apo/Documents/repos/MLSys-NYU-2023/weeks/10/.venv/lib/python3.11/site-packages/IPython/core/pylabtools.py:152: MatplotlibDeprecationWarning: savefig() got unexpected keyword argument \"facecolor\" which is no longer supported as of 3.3 and will become an error two minor releases later\n",
      "  fig.canvas.print_figure(bytes_io, **kw)\n",
      "/Users/apo/Documents/repos/MLSys-NYU-2023/weeks/10/.venv/lib/python3.11/site-packages/IPython/core/pylabtools.py:152: MatplotlibDeprecationWarning: savefig() got unexpected keyword argument \"edgecolor\" which is no longer supported as of 3.3 and will become an error two minor releases later\n",
      "  fig.canvas.print_figure(bytes_io, **kw)\n",
      "/Users/apo/Documents/repos/MLSys-NYU-2023/weeks/10/.venv/lib/python3.11/site-packages/IPython/core/pylabtools.py:152: MatplotlibDeprecationWarning: savefig() got unexpected keyword argument \"bbox_inches_restore\" which is no longer supported as of 3.3 and will become an error two minor releases later\n",
      "  fig.canvas.print_figure(bytes_io, **kw)\n"
     ]
    },
    {
     "data": {
      "image/png": "[encoded data removed]",
      "text/plain": [
       "<Figure size 640x480 with 2 Axes>"
      ]
     },
     "metadata": {},
     "output_type": "display_data"
    }
   ],
   "source": [
    "print(\"Total of # {} test cases\".format(len(y_test)))\n",
    "calculate_confusion_matrix_and_report(predicted, y_test)"
   ]
  },
  {
   "cell_type": "markdown",
   "id": "instrumental-drive",
   "metadata": {},
   "source": [
    "### Error analysis"
   ]
  },
  {
   "cell_type": "code",
   "execution_count": 12,
   "id": "radical-singapore",
   "metadata": {},
   "outputs": [
    {
     "name": "stdout",
     "output_type": "stream",
     "text": [
      "Total of mistakes: 51\n",
      "Sentence: the company slipped to an operating loss of eur 26 million from a profit of eur 13 million \n",
      "Predicted: 2, but it was: 0\n",
      "Probs: [0.21494976 0.17169911 0.61335113]\n"
     ]
    }
   ],
   "source": [
    "assert len(X_test) == len(predicted)\n",
    "# manual inspection\n",
    "mistakes = [(x, p, y, prob) for x, p, y, prob in zip(X_test, predicted, y_test, predicted_prob) if p != y]\n",
    "print(\"Total of mistakes: {}\".format(len(mistakes)))\n",
    "# debug\n",
    "print(\"Sentence: {}\\nPredicted: {}, but it was: {}\\nProbs: {}\".format(*mistakes[0]))"
   ]
  },
  {
   "cell_type": "code",
   "execution_count": 13,
   "id": "5ba25085",
   "metadata": {},
   "outputs": [
    {
     "name": "stdout",
     "output_type": "stream",
     "text": [
      "Sentence: the group s turnover in 2006 was eur 392 million  and operating profit was eur 39 million \n",
      "Predicted: 2, but it was: 1\n",
      "Probs: [0.11291309 0.29880497 0.58828193]\n",
      "=======\n",
      "\n",
      "Sentence: the department store division reported an increase in sales of 4 per cent \n",
      "Predicted: 1, but it was: 2\n",
      "Probs: [0.08761441 0.49839958 0.41398601]\n",
      "=======\n",
      "\n",
      "Sentence:  small firms are suffering at the moment because they are likely to have money trouble   he added \n",
      "Predicted: 1, but it was: 0\n",
      "Probs: [0.10433723 0.73461042 0.16105235]\n",
      "=======\n",
      "\n"
     ]
    }
   ],
   "source": [
    "for _ in range(3):\n",
    "    rnd_mistake = choice(mistakes)\n",
    "    print(\"Sentence: {}\\nPredicted: {}, but it was: {}\\nProbs: {}\\n=======\\n\".format(*rnd_mistake))"
   ]
  },
  {
   "cell_type": "markdown",
   "id": "40cfa4f3",
   "metadata": {},
   "source": [
    "Now, let's run evaluation *per slice*: instead of considering the performances on all dataset, we split it according to categories important for our use case.\n",
    "\n",
    "In our example, we will assume we are interested in being accurate across all quarters, so we now report our metrics per slice / quarter.\n",
    "\n",
    "You can imagine many more relevant slices: report by industry (pharma, tech, etc.), market cap (over a 1B, over 100 etc.)."
   ]
  },
  {
   "cell_type": "code",
   "execution_count": 14,
   "id": "cd4a7154",
   "metadata": {},
   "outputs": [
    {
     "name": "stdout",
     "output_type": "stream",
     "text": [
      "Total of # 3 cases in slice: first quarter\n",
      "\n",
      "Classification Report\n",
      "              precision    recall  f1-score   support\n",
      "\n",
      "           0       0.00      0.00      0.00         1\n",
      "           1       0.33      1.00      0.50         1\n",
      "           2       0.00      0.00      0.00         1\n",
      "\n",
      "    accuracy                           0.33         3\n",
      "   macro avg       0.11      0.33      0.17         3\n",
      "weighted avg       0.11      0.33      0.17         3\n",
      "\n",
      "\n",
      "===========\n",
      "\n",
      "Total of # 2 cases in slice: second quarter\n",
      "\n",
      "Classification Report\n",
      "              precision    recall  f1-score   support\n",
      "\n",
      "           2       1.00      1.00      1.00         2\n",
      "\n",
      "    accuracy                           1.00         2\n",
      "   macro avg       1.00      1.00      1.00         2\n",
      "weighted avg       1.00      1.00      1.00         2\n",
      "\n",
      "\n",
      "===========\n",
      "\n",
      "Total of # 3 cases in slice: third quarter\n",
      "\n",
      "Classification Report\n",
      "              precision    recall  f1-score   support\n",
      "\n",
      "           0       0.00      0.00      0.00         1\n",
      "           1       0.00      0.00      0.00         1\n",
      "           2       0.33      1.00      0.50         1\n",
      "\n",
      "    accuracy                           0.33         3\n",
      "   macro avg       0.11      0.33      0.17         3\n",
      "weighted avg       0.11      0.33      0.17         3\n",
      "\n",
      "\n",
      "===========\n",
      "\n",
      "Total of # 3 cases in slice: fourth quarter\n",
      "\n",
      "Classification Report\n",
      "              precision    recall  f1-score   support\n",
      "\n",
      "           0       0.00      0.00      0.00         1\n",
      "           2       0.67      1.00      0.80         2\n",
      "\n",
      "    accuracy                           0.67         3\n",
      "   macro avg       0.33      0.50      0.40         3\n",
      "weighted avg       0.44      0.67      0.53         3\n",
      "\n",
      "\n",
      "===========\n",
      "\n"
     ]
    },
    {
     "name": "stderr",
     "output_type": "stream",
     "text": [
      "/Users/apo/Documents/repos/MLSys-NYU-2023/weeks/10/.venv/lib/python3.11/site-packages/sklearn/metrics/_classification.py:1471: UndefinedMetricWarning: Precision and F-score are ill-defined and being set to 0.0 in labels with no predicted samples. Use `zero_division` parameter to control this behavior.\n",
      "  _warn_prf(average, modifier, msg_start, len(result))\n",
      "/Users/apo/Documents/repos/MLSys-NYU-2023/weeks/10/.venv/lib/python3.11/site-packages/sklearn/metrics/_classification.py:1471: UndefinedMetricWarning: Precision and F-score are ill-defined and being set to 0.0 in labels with no predicted samples. Use `zero_division` parameter to control this behavior.\n",
      "  _warn_prf(average, modifier, msg_start, len(result))\n",
      "/Users/apo/Documents/repos/MLSys-NYU-2023/weeks/10/.venv/lib/python3.11/site-packages/sklearn/metrics/_classification.py:1471: UndefinedMetricWarning: Precision and F-score are ill-defined and being set to 0.0 in labels with no predicted samples. Use `zero_division` parameter to control this behavior.\n",
      "  _warn_prf(average, modifier, msg_start, len(result))\n",
      "/Users/apo/Documents/repos/MLSys-NYU-2023/weeks/10/.venv/lib/python3.11/site-packages/sklearn/metrics/_classification.py:1471: UndefinedMetricWarning: Precision and F-score are ill-defined and being set to 0.0 in labels with no predicted samples. Use `zero_division` parameter to control this behavior.\n",
      "  _warn_prf(average, modifier, msg_start, len(result))\n",
      "/Users/apo/Documents/repos/MLSys-NYU-2023/weeks/10/.venv/lib/python3.11/site-packages/sklearn/metrics/_classification.py:1471: UndefinedMetricWarning: Precision and F-score are ill-defined and being set to 0.0 in labels with no predicted samples. Use `zero_division` parameter to control this behavior.\n",
      "  _warn_prf(average, modifier, msg_start, len(result))\n",
      "/Users/apo/Documents/repos/MLSys-NYU-2023/weeks/10/.venv/lib/python3.11/site-packages/sklearn/metrics/_classification.py:1471: UndefinedMetricWarning: Precision and F-score are ill-defined and being set to 0.0 in labels with no predicted samples. Use `zero_division` parameter to control this behavior.\n",
      "  _warn_prf(average, modifier, msg_start, len(result))\n",
      "/Users/apo/Documents/repos/MLSys-NYU-2023/weeks/10/.venv/lib/python3.11/site-packages/sklearn/metrics/_classification.py:1471: UndefinedMetricWarning: Precision and F-score are ill-defined and being set to 0.0 in labels with no predicted samples. Use `zero_division` parameter to control this behavior.\n",
      "  _warn_prf(average, modifier, msg_start, len(result))\n",
      "/Users/apo/Documents/repos/MLSys-NYU-2023/weeks/10/.venv/lib/python3.11/site-packages/sklearn/metrics/_classification.py:1471: UndefinedMetricWarning: Precision and F-score are ill-defined and being set to 0.0 in labels with no predicted samples. Use `zero_division` parameter to control this behavior.\n",
      "  _warn_prf(average, modifier, msg_start, len(result))\n",
      "/Users/apo/Documents/repos/MLSys-NYU-2023/weeks/10/.venv/lib/python3.11/site-packages/sklearn/metrics/_classification.py:1471: UndefinedMetricWarning: Precision and F-score are ill-defined and being set to 0.0 in labels with no predicted samples. Use `zero_division` parameter to control this behavior.\n",
      "  _warn_prf(average, modifier, msg_start, len(result))\n"
     ]
    }
   ],
   "source": [
    "# let's say we slice queries by quarter\n",
    "slices = {\n",
    "    \"first quarter\": [[], []],\n",
    "    \"second quarter\": [[], []],\n",
    "    \"third quarter\": [[], []],\n",
    "    \"fourth quarter\": [[], []]\n",
    "}\n",
    "\n",
    "for x, p, y in zip(X_test, predicted, y_test):\n",
    "    for _s in slices.keys():\n",
    "        if _s in x:\n",
    "            slices[_s][0].append(p)\n",
    "            slices[_s][1].append(y)\n",
    "            \n",
    "for _slice, test_set in slices.items():\n",
    "    if test_set[0]:\n",
    "        print(\"Total of # {} cases in slice: {}\".format(len(test_set[0]), _slice))\n",
    "        calculate_confusion_matrix_and_report(test_set[0], test_set[1], with_plot=False)\n",
    "        print(\"\\n===========\\n\")"
   ]
  },
  {
   "cell_type": "markdown",
   "id": "1d040753",
   "metadata": {},
   "source": [
    "## Black-box testing\n",
    "\n",
    "Sometime, we wish to test our models on edge cases not present in the test set, or on specific conditions we know are important to safely deploy it: for example, if we work for company X, we may want to \"double check\" the behavior of the system in carefully crafted stories about company X, to make sure the model WOULD behave correctly, if presented with those cases.\n",
    "\n",
    "More specifically, we will adapt the “black box testing” from traditional software systems to ML systems: it should be possible to evaluate the performance of a complex system by treating it as a black box, and only supply input-output pairs that are relevant for our qualitative understanding (see for example the excellent paper: https://arxiv.org/abs/2005.04118)."
   ]
  },
  {
   "cell_type": "code",
   "execution_count": 15,
   "id": "51a28720",
   "metadata": {},
   "outputs": [
    {
     "name": "stdout",
     "output_type": "stream",
     "text": [
      "\n",
      "======\n",
      "Focus on target company: comptel\n",
      "\n",
      "For 'in 2009  comptel slipped to a net loss of eur2 1 m from a profit of eur6 6 m in the previous year ' =>\n",
      "golden 0, predicted 2\n",
      "\n",
      "For 'major order in india comptel corporation has received a significant longterm order for mediation and provisioning solutions being used by a leading operator in india ' =>\n",
      "golden 2, predicted 1\n",
      "\n"
     ]
    }
   ],
   "source": [
    "# Test for edge cases / interesting cases / regression errors\n",
    "\n",
    "# CASE 1:\n",
    "# I'm particularly interesting in some company, say\n",
    "# https://en.wikipedia.org/wiki/Comptel\n",
    "# and want to make sure we are doing well there!\n",
    "\n",
    "companies_I_care_about = ['comptel']\n",
    "\n",
    "for company in companies_I_care_about:\n",
    "    print(\"\\n======\\nFocus on target company: {}\\n\".format(company))\n",
    "    for x, p, y in zip(X_test, predicted, y_test):\n",
    "        if company in x:\n",
    "            print(\"For '{}' =>\\ngolden {}, predicted {}\\n\".format(\n",
    "                x,\n",
    "                y, \n",
    "                p))"
   ]
  },
  {
   "cell_type": "code",
   "execution_count": 16,
   "id": "027d4fc4",
   "metadata": {},
   "outputs": [
    {
     "name": "stdout",
     "output_type": "stream",
     "text": [
      "For 'the company slipped to an operating loss of eur 26 million from a profit of eur 13 million ', I expect 2, it was 0\n",
      "\n",
      "For 'revenue in the quarter fell 8 percent to  euro  24 billion compared to a year earlier ', I expect 2, it was 0\n",
      "\n"
     ]
    }
   ],
   "source": [
    "# CASE 2:\n",
    "# Assuming we have some specific sentences to monitor, let's check for that!\n",
    "sentences_I_care_about = [\n",
    "    'the company slipped to an operating loss of eur 26 million from a profit of eur 13 million',\n",
    "    'revenue in the quarter fell 8 percent to  euro  24 billion compared to a year earlier'\n",
    "]\n",
    "labels_I_care_about = [0, 0]\n",
    "\n",
    "for x, p in zip(X_test, predicted):\n",
    "     if x.strip() in sentences_I_care_about:\n",
    "        print(\"For '{}', I expect {}, it was {}\\n\".format(\n",
    "            x,\n",
    "            p, \n",
    "            labels_I_care_about[sentences_I_care_about.index(x.strip())]\n",
    "        ))"
   ]
  },
  {
   "cell_type": "markdown",
   "id": "c96275a4",
   "metadata": {},
   "source": [
    "*BONUS: test for robustness*\n",
    "\n",
    "Ideally, a model should perform the same when input change in a small way (check this paper on \"adversarial attacks\": https://arxiv.org/pdf/1412.6572.pdf!).\n",
    "\n",
    "For example, in test classification, we desire to have a system robust to alternative specifications of the text, i.e. we expect the response to the pair (\"revenue in the quarter fell 8 percent to  euro  24 billion compared to a year earlier\", \"revenue in the quarter diminished by 8 percent to  euro  24 billion compared to the previous year\") to be identical.\n",
    "\n",
    "While a full-fledge treatment of this problem is out of scope, let's see how this intuition works with working code."
   ]
  },
  {
   "cell_type": "code",
   "execution_count": 17,
   "id": "852d3bd7",
   "metadata": {},
   "outputs": [
    {
     "name": "stdout",
     "output_type": "stream",
     "text": [
      "\n",
      "For sentence 'the company slipped to an operating loss of eur 26 million from a profit of eur 13 million', prediction was: 2, under perturbation: 2\n",
      "\n",
      "For sentence 'revenue in the quarter fell 8 percent to  euro  24 billion compared to a year earlier', prediction was: 2, under perturbation: 2\n"
     ]
    }
   ],
   "source": [
    "# test for perturbations\n",
    "test_sentences = [\n",
    "    'the company slipped to an operating loss of eur 26 million from a profit of eur 13 million',\n",
    "    'revenue in the quarter fell 8 percent to  euro  24 billion compared to a year earlier'\n",
    "]\n",
    "\n",
    "perturbated_sentences = [\n",
    "    'operating loss surged to eur 26 million from a profit of eur 13 million',\n",
    "    'revenue in the quarter diminished by 8 percent to  euro  24 billion compared to the previous year'\n",
    "]\n",
    "\n",
    "test_predicted = clf_model.predict(tf_vectorizer.transform(test_sentences))\n",
    "perturbated_predicted = clf_model.predict(tf_vectorizer.transform(perturbated_sentences))\n",
    "\n",
    "for s, t, p in zip(test_sentences, test_predicted, perturbated_predicted):\n",
    "    print(\"\\nFor sentence '{}', prediction was: {}, under perturbation: {}\".format(\n",
    "        s, t, p\n",
    "    ))"
   ]
  },
  {
   "cell_type": "markdown",
   "id": "7bc58715",
   "metadata": {},
   "source": [
    "How do we scale this to more and more examples? A quick and easy way to generate perturbation is called back-translation.\n",
    "\n",
    "The idea is that you can use machine translation to go:\n",
    "\n",
    "SOURCE -> TARGET -> NEW_SOURCE\n",
    "\n",
    "where NEW_SOURCE is a semantically equivalent, but not identical version of source. For example:\n",
    "\n",
    "'hi' -> Italian target: 'ciao' -> 'hello'\n",
    "\n",
    "'hi' and 'hello' have the same meaning so, 'hello' may be considered a perturbation of the original text."
   ]
  },
  {
   "cell_type": "code",
   "execution_count": 19,
   "id": "cc7232ed",
   "metadata": {},
   "outputs": [
    {
     "name": "stderr",
     "output_type": "stream",
     "text": [
      "[nltk_data] Downloading package punkt to /Users/apo/nltk_data...\n",
      "[nltk_data]   Unzipping tokenizers/punkt.zip.\n"
     ]
    },
    {
     "name": "stdout",
     "output_type": "stream",
     "text": [
      "Original is: the company slipped to an operating loss of eur 26 million from a profit of eur 13 million\n",
      "New sentence is: The company slipped into 26 million euros from the profit of 13 million euros.\n",
      "\n",
      "\n",
      "Original is: revenue in the quarter fell 8 percent to  euro  24 billion compared to a year earlier\n",
      "New sentence is: In this quarter, revenue fell by 8 % to 24 billion euros\n",
      "\n",
      "\n"
     ]
    }
   ],
   "source": [
    "# this is really small hack-y example!!!\n",
    "from BackTranslation import BackTranslation\n",
    "trans = BackTranslation(url=[\n",
    "      'translate.google.com',\n",
    "      'translate.google.co.kr',\n",
    "    ])\n",
    "for t in test_sentences:\n",
    "    result = trans.translate(t, src='en', tmp = 'zh-cn')\n",
    "    print(\"Original is: {}\\nNew sentence is: {}\\n\\n\".format(t, result.result_text))"
   ]
  },
  {
   "cell_type": "code",
   "execution_count": null,
   "id": "e0db4d39",
   "metadata": {},
   "outputs": [],
   "source": []
  },
  {
   "cell_type": "code",
   "execution_count": null,
   "id": "312e9a70",
   "metadata": {},
   "outputs": [],
   "source": []
  }
 ],
 "metadata": {
  "kernelspec": {
   "display_name": "Python 3 (ipykernel)",
   "language": "python",
   "name": "python3"
  },
  "language_info": {
   "codemirror_mode": {
    "name": "ipython",
    "version": 3
   },
   "file_extension": ".py",
   "mimetype": "text/x-python",
   "name": "python",
   "nbconvert_exporter": "python",
   "pygments_lexer": "ipython3",
   "version": "3.11.5"
  }
 },
 "nbformat": 4,
 "nbformat_minor": 5
}
